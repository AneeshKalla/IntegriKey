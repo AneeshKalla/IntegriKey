{
 "cells": [
  {
   "cell_type": "code",
   "execution_count": 13,
   "metadata": {},
   "outputs": [],
   "source": [
    "import cv2  # Import OpenCV\n",
    "import os\n",
    "import shutil\n",
    "from ultralytics import YOLO \n",
    "from datetime import datetime\n",
    "import numpy as np\n",
    "import tqdm"
   ]
  },
  {
   "cell_type": "code",
   "execution_count": 14,
   "metadata": {},
   "outputs": [],
   "source": [
    "model = YOLO('yolov8m-seg.pt')"
   ]
  },
  {
   "cell_type": "code",
   "execution_count": null,
   "metadata": {},
   "outputs": [],
   "source": []
  },
  {
   "cell_type": "code",
   "execution_count": 59,
   "metadata": {},
   "outputs": [
    {
     "name": "stderr",
     "output_type": "stream",
     "text": [
      "  0%|          | 0/333 [00:00<?, ?it/s]"
     ]
    },
    {
     "name": "stdout",
     "output_type": "stream",
     "text": [
      "\n",
      "image 1/1 /Users/aneeshkalla/Desktop/HackTJ11.0/laptop_dataset/IMG_3643.png: 640x480 3 persons, 1 bottle, 1 cup, 2 laptops, 1 cell phone, 925.7ms\n",
      "Speed: 22.2ms preprocess, 925.7ms inference, 26.6ms postprocess per image at shape (1, 3, 640, 480)\n",
      "item: 63.0\n",
      "item: 63.0\n"
     ]
    },
    {
     "name": "stderr",
     "output_type": "stream",
     "text": [
      "  2%|▏         | 7/333 [00:02<01:50,  2.95it/s]"
     ]
    },
    {
     "name": "stdout",
     "output_type": "stream",
     "text": [
      "\n",
      "image 1/1 /Users/aneeshkalla/Desktop/HackTJ11.0/laptop_dataset/IMG_3657.png: 640x480 2 persons, 2 bottles, 1 dining table, 2 mouses, 1 cell phone, 1 book, 439.1ms\n",
      "Speed: 3.7ms preprocess, 439.1ms inference, 4.3ms postprocess per image at shape (1, 3, 640, 480)\n"
     ]
    },
    {
     "name": "stderr",
     "output_type": "stream",
     "text": [
      "  2%|▏         | 8/333 [00:03<02:58,  1.82it/s]"
     ]
    },
    {
     "name": "stdout",
     "output_type": "stream",
     "text": [
      "item: 73.0\n",
      "\n",
      "image 1/1 /Users/aneeshkalla/Desktop/HackTJ11.0/laptop_dataset/IMG_3656.png: 640x480 2 persons, 3 bottles, 1 cup, 1 dining table, 3 laptops, 1 mouse, 1 cell phone, 1 book, 414.9ms\n",
      "Speed: 2.4ms preprocess, 414.9ms inference, 7.0ms postprocess per image at shape (1, 3, 640, 480)\n",
      "item: 63.0\n",
      "item: 63.0\n",
      "item: 63.0\n",
      "item: 73.0\n"
     ]
    },
    {
     "name": "stderr",
     "output_type": "stream",
     "text": [
      "  3%|▎         | 11/333 [00:05<02:56,  1.83it/s]"
     ]
    },
    {
     "name": "stdout",
     "output_type": "stream",
     "text": [
      "\n",
      "image 1/1 /Users/aneeshkalla/Desktop/HackTJ11.0/laptop_dataset/IMG_3642.png: 640x480 4 persons, 2 bottles, 1 cup, 1 tv, 2 laptops, 1 cell phone, 520.1ms\n",
      "Speed: 2.6ms preprocess, 520.1ms inference, 5.5ms postprocess per image at shape (1, 3, 640, 480)\n",
      "item: 63.0\n",
      "item: 63.0\n"
     ]
    },
    {
     "name": "stderr",
     "output_type": "stream",
     "text": [
      "  4%|▎         | 12/333 [00:07<04:08,  1.29it/s]"
     ]
    },
    {
     "name": "stdout",
     "output_type": "stream",
     "text": [
      "\n",
      "image 1/1 /Users/aneeshkalla/Desktop/HackTJ11.0/laptop_dataset/IMG_3668.png: 640x480 2 persons, 1 bottle, 2 cups, 1 chair, 2 tvs, 1 laptop, 1 keyboard, 1 book, 452.5ms\n",
      "Speed: 2.9ms preprocess, 452.5ms inference, 7.2ms postprocess per image at shape (1, 3, 640, 480)\n"
     ]
    },
    {
     "name": "stderr",
     "output_type": "stream",
     "text": [
      "  8%|▊         | 26/333 [00:09<01:25,  3.60it/s]"
     ]
    },
    {
     "name": "stdout",
     "output_type": "stream",
     "text": [
      "item: 63.0\n",
      "item: 73.0\n",
      "\n",
      "image 1/1 /Users/aneeshkalla/Desktop/HackTJ11.0/laptop_dataset/IMG_3654.png: 640x480 2 persons, 2 bottles, 2 cups, 1 laptop, 2 cell phones, 497.7ms\n",
      "Speed: 3.5ms preprocess, 497.7ms inference, 5.7ms postprocess per image at shape (1, 3, 640, 480)\n"
     ]
    },
    {
     "name": "stderr",
     "output_type": "stream",
     "text": [
      "  9%|▊         | 29/333 [00:11<01:42,  2.96it/s]"
     ]
    },
    {
     "name": "stdout",
     "output_type": "stream",
     "text": [
      "item: 63.0\n",
      "\n",
      "image 1/1 /Users/aneeshkalla/Desktop/HackTJ11.0/laptop_dataset/IMG_3640.png: 640x480 3 persons, 5 bottles, 1 cup, 2 laptops, 1 keyboard, 2 cell phones, 510.0ms\n",
      "Speed: 3.3ms preprocess, 510.0ms inference, 9.7ms postprocess per image at shape (1, 3, 640, 480)\n"
     ]
    },
    {
     "name": "stderr",
     "output_type": "stream",
     "text": [
      "  9%|▉         | 30/333 [00:12<02:22,  2.13it/s]"
     ]
    },
    {
     "name": "stdout",
     "output_type": "stream",
     "text": [
      "item: 63.0\n",
      "item: 63.0\n",
      "\n",
      "image 1/1 /Users/aneeshkalla/Desktop/HackTJ11.0/laptop_dataset/IMG_3641.png: 640x480 3 persons, 3 bottles, 1 cup, 1 laptop, 1 keyboard, 2 cell phones, 476.8ms\n",
      "Speed: 2.8ms preprocess, 476.8ms inference, 5.0ms postprocess per image at shape (1, 3, 640, 480)\n"
     ]
    },
    {
     "name": "stderr",
     "output_type": "stream",
     "text": [
      "  9%|▉         | 31/333 [00:14<03:07,  1.61it/s]"
     ]
    },
    {
     "name": "stdout",
     "output_type": "stream",
     "text": [
      "item: 63.0\n",
      "\n",
      "image 1/1 /Users/aneeshkalla/Desktop/HackTJ11.0/laptop_dataset/IMG_3655.png: 640x480 2 persons, 2 bottles, 1 cup, 1 mouse, 1 cell phone, 1 book, 448.9ms\n",
      "Speed: 2.4ms preprocess, 448.9ms inference, 5.6ms postprocess per image at shape (1, 3, 640, 480)\n"
     ]
    },
    {
     "name": "stderr",
     "output_type": "stream",
     "text": [
      " 10%|▉         | 33/333 [00:16<03:28,  1.44it/s]"
     ]
    },
    {
     "name": "stdout",
     "output_type": "stream",
     "text": [
      "item: 73.0\n",
      "\n",
      "image 1/1 /Users/aneeshkalla/Desktop/HackTJ11.0/laptop_dataset/IMG_3669.png: 640x480 2 persons, 2 cups, 1 chair, 2 tvs, 1 laptop, 1 keyboard, 1 book, 465.3ms\n",
      "Speed: 2.6ms preprocess, 465.3ms inference, 6.5ms postprocess per image at shape (1, 3, 640, 480)\n"
     ]
    },
    {
     "name": "stderr",
     "output_type": "stream",
     "text": [
      " 11%|█         | 35/333 [00:18<03:45,  1.32it/s]"
     ]
    },
    {
     "name": "stdout",
     "output_type": "stream",
     "text": [
      "item: 63.0\n",
      "item: 73.0\n",
      "\n",
      "image 1/1 /Users/aneeshkalla/Desktop/HackTJ11.0/laptop_dataset/IMG_3651.png: 640x480 2 persons, 1 bottle, 2 laptops, 1 keyboard, 1 cell phone, 2 books, 520.5ms\n",
      "Speed: 2.4ms preprocess, 520.5ms inference, 6.9ms postprocess per image at shape (1, 3, 640, 480)\n",
      "item: 63.0\n",
      "item: 73.0\n",
      "item: 73.0\n",
      "item: 63.0\n"
     ]
    },
    {
     "name": "stderr",
     "output_type": "stream",
     "text": [
      " 15%|█▌        | 51/333 [00:20<01:22,  3.42it/s]"
     ]
    },
    {
     "name": "stdout",
     "output_type": "stream",
     "text": [
      "\n",
      "image 1/1 /Users/aneeshkalla/Desktop/HackTJ11.0/laptop_dataset/IMG_3645.png: 640x480 2 persons, 2 bottles, 1 cup, 2 laptops, 1 book, 1 scissors, 503.5ms\n",
      "Speed: 2.4ms preprocess, 503.5ms inference, 9.1ms postprocess per image at shape (1, 3, 640, 480)\n",
      "item: 73.0\n",
      "item: 63.0\n"
     ]
    },
    {
     "name": "stderr",
     "output_type": "stream",
     "text": [
      " 16%|█▌        | 53/333 [00:22<01:45,  2.65it/s]"
     ]
    },
    {
     "name": "stdout",
     "output_type": "stream",
     "text": [
      "item: 63.0\n",
      "\n",
      "image 1/1 /Users/aneeshkalla/Desktop/HackTJ11.0/laptop_dataset/IMG_3644.png: 640x480 4 persons, 2 bottles, 1 cup, 1 tv, 2 laptops, 2 cell phones, 1 book, 492.4ms\n",
      "Speed: 2.9ms preprocess, 492.4ms inference, 7.4ms postprocess per image at shape (1, 3, 640, 480)\n",
      "item: 63.0\n",
      "item: 63.0\n"
     ]
    },
    {
     "name": "stderr",
     "output_type": "stream",
     "text": [
      " 18%|█▊        | 59/333 [00:24<01:41,  2.70it/s]"
     ]
    },
    {
     "name": "stdout",
     "output_type": "stream",
     "text": [
      "item: 73.0\n",
      "\n",
      "image 1/1 /Users/aneeshkalla/Desktop/HackTJ11.0/laptop_dataset/IMG_3650.png: 640x480 3 persons, 1 bottle, 1 laptop, 1 cell phone, 454.8ms\n",
      "Speed: 2.6ms preprocess, 454.8ms inference, 3.8ms postprocess per image at shape (1, 3, 640, 480)\n"
     ]
    },
    {
     "name": "stderr",
     "output_type": "stream",
     "text": [
      " 18%|█▊        | 60/333 [00:26<02:10,  2.10it/s]"
     ]
    },
    {
     "name": "stdout",
     "output_type": "stream",
     "text": [
      "item: 63.0\n",
      "\n",
      "image 1/1 /Users/aneeshkalla/Desktop/HackTJ11.0/laptop_dataset/IMG_3646.png: 640x480 1 person, 2 bottles, 2 cups, 1 laptop, 1 book, 449.0ms\n",
      "Speed: 2.4ms preprocess, 449.0ms inference, 4.0ms postprocess per image at shape (1, 3, 640, 480)\n"
     ]
    },
    {
     "name": "stderr",
     "output_type": "stream",
     "text": [
      " 22%|██▏       | 74/333 [00:28<01:10,  3.66it/s]"
     ]
    },
    {
     "name": "stdout",
     "output_type": "stream",
     "text": [
      "item: 73.0\n",
      "item: 63.0\n",
      "\n",
      "image 1/1 /Users/aneeshkalla/Desktop/HackTJ11.0/laptop_dataset/IMG_3652.png: 640x480 2 persons, 1 bottle, 3 cups, 2 dining tables, 1 laptop, 2 cell phones, 438.4ms\n",
      "Speed: 2.8ms preprocess, 438.4ms inference, 5.5ms postprocess per image at shape (1, 3, 640, 480)\n"
     ]
    },
    {
     "name": "stderr",
     "output_type": "stream",
     "text": [
      " 23%|██▎       | 75/333 [00:30<01:31,  2.83it/s]"
     ]
    },
    {
     "name": "stdout",
     "output_type": "stream",
     "text": [
      "item: 63.0\n",
      "\n",
      "image 1/1 /Users/aneeshkalla/Desktop/HackTJ11.0/laptop_dataset/IMG_3653.png: 640x480 2 persons, 2 bottles, 3 cups, 1 orange, 2 dining tables, 1 laptop, 2 cell phones, 645.4ms\n",
      "Speed: 5.0ms preprocess, 645.4ms inference, 7.1ms postprocess per image at shape (1, 3, 640, 480)\n"
     ]
    },
    {
     "name": "stderr",
     "output_type": "stream",
     "text": [
      " 24%|██▍       | 80/333 [00:32<01:34,  2.69it/s]"
     ]
    },
    {
     "name": "stdout",
     "output_type": "stream",
     "text": [
      "item: 63.0\n",
      "\n",
      "image 1/1 /Users/aneeshkalla/Desktop/HackTJ11.0/laptop_dataset/IMG_3647.png: 640x480 1 person, 1 cup, 1 laptop, 1 book, 543.2ms\n",
      "Speed: 4.3ms preprocess, 543.2ms inference, 4.1ms postprocess per image at shape (1, 3, 640, 480)\n",
      "item: 73.0\n",
      "item: 63.0\n"
     ]
    },
    {
     "name": "stderr",
     "output_type": "stream",
     "text": [
      " 24%|██▍       | 81/333 [00:34<02:07,  1.97it/s]"
     ]
    },
    {
     "name": "stdout",
     "output_type": "stream",
     "text": [
      "\n",
      "image 1/1 /Users/aneeshkalla/Desktop/HackTJ11.0/laptop_dataset/IMG_3595.png: 640x480 1 person, 6 bottles, 2 cups, 2 chairs, 4 laptops, 3 mouses, 2 keyboards, 1 cell phone, 536.4ms\n",
      "Speed: 3.0ms preprocess, 536.4ms inference, 11.5ms postprocess per image at shape (1, 3, 640, 480)\n",
      "item: 63.0\n",
      "item: 63.0\n",
      "item: 63.0\n",
      "item: 63.0\n"
     ]
    },
    {
     "name": "stderr",
     "output_type": "stream",
     "text": [
      " 27%|██▋       | 90/333 [00:36<01:32,  2.63it/s]"
     ]
    },
    {
     "name": "stdout",
     "output_type": "stream",
     "text": [
      "\n",
      "image 1/1 /Users/aneeshkalla/Desktop/HackTJ11.0/laptop_dataset/IMG_3608.png: 640x480 1 person, 5 bottles, 1 cup, 1 chair, 1 dining table, 1 laptop, 1 mouse, 2 keyboards, 1 book, 508.5ms\n",
      "Speed: 3.5ms preprocess, 508.5ms inference, 8.0ms postprocess per image at shape (1, 3, 640, 480)\n"
     ]
    },
    {
     "name": "stderr",
     "output_type": "stream",
     "text": [
      " 29%|██▊       | 95/333 [00:38<01:33,  2.55it/s]"
     ]
    },
    {
     "name": "stdout",
     "output_type": "stream",
     "text": [
      "item: 73.0\n",
      "item: 63.0\n",
      "\n",
      "image 1/1 /Users/aneeshkalla/Desktop/HackTJ11.0/laptop_dataset/IMG_3620.png: 640x480 1 person, 1 handbag, 2 bottles, 2 chairs, 1 dining table, 1 laptop, 1 keyboard, 1 book, 446.0ms\n",
      "Speed: 2.9ms preprocess, 446.0ms inference, 5.9ms postprocess per image at shape (1, 3, 640, 480)\n"
     ]
    },
    {
     "name": "stderr",
     "output_type": "stream",
     "text": [
      " 29%|██▉       | 96/333 [00:40<01:58,  1.99it/s]"
     ]
    },
    {
     "name": "stdout",
     "output_type": "stream",
     "text": [
      "item: 63.0\n",
      "item: 73.0\n",
      "\n",
      "image 1/1 /Users/aneeshkalla/Desktop/HackTJ11.0/laptop_dataset/IMG_3634.png: 640x480 4 persons, 1 skateboard, 3 bottles, 1 cup, 1 chair, 2 laptops, 1 keyboard, 1 book, 642.5ms\n",
      "Speed: 4.2ms preprocess, 642.5ms inference, 11.8ms postprocess per image at shape (1, 3, 640, 480)\n"
     ]
    },
    {
     "name": "stderr",
     "output_type": "stream",
     "text": [
      " 29%|██▉       | 97/333 [00:43<02:40,  1.47it/s]"
     ]
    },
    {
     "name": "stdout",
     "output_type": "stream",
     "text": [
      "item: 63.0\n",
      "item: 63.0\n",
      "item: 73.0\n",
      "\n",
      "image 1/1 /Users/aneeshkalla/Desktop/HackTJ11.0/laptop_dataset/IMG_3635.png: 640x480 3 persons, 4 bottles, 1 cup, 1 chair, 2 laptops, 484.1ms\n",
      "Speed: 2.7ms preprocess, 484.1ms inference, 5.7ms postprocess per image at shape (1, 3, 640, 480)\n"
     ]
    },
    {
     "name": "stderr",
     "output_type": "stream",
     "text": [
      " 30%|██▉       | 99/333 [00:44<02:50,  1.37it/s]"
     ]
    },
    {
     "name": "stdout",
     "output_type": "stream",
     "text": [
      "item: 63.0\n",
      "item: 63.0\n",
      "\n",
      "image 1/1 /Users/aneeshkalla/Desktop/HackTJ11.0/laptop_dataset/IMG_3621.png: 640x480 2 persons, 1 handbag, 1 cup, 1 laptop, 1 mouse, 537.5ms\n",
      "Speed: 3.5ms preprocess, 537.5ms inference, 3.9ms postprocess per image at shape (1, 3, 640, 480)\n"
     ]
    },
    {
     "name": "stderr",
     "output_type": "stream",
     "text": [
      " 30%|███       | 100/333 [00:46<03:25,  1.13it/s]"
     ]
    },
    {
     "name": "stdout",
     "output_type": "stream",
     "text": [
      "item: 63.0\n",
      "\n",
      "image 1/1 /Users/aneeshkalla/Desktop/HackTJ11.0/laptop_dataset/IMG_3609.png: 640x480 2 persons, 5 bottles, 2 cups, 1 fork, 1 bowl, 1 chair, 1 dining table, 1 laptop, 506.4ms\n",
      "Speed: 2.5ms preprocess, 506.4ms inference, 8.4ms postprocess per image at shape (1, 3, 640, 480)\n"
     ]
    },
    {
     "name": "stderr",
     "output_type": "stream",
     "text": [
      " 30%|███       | 101/333 [00:48<04:06,  1.06s/it]"
     ]
    },
    {
     "name": "stdout",
     "output_type": "stream",
     "text": [
      "item: 63.0\n",
      "\n",
      "image 1/1 /Users/aneeshkalla/Desktop/HackTJ11.0/laptop_dataset/IMG_3594.png: 640x480 1 person, 2 bottles, 2 chairs, 4 laptops, 3 mouses, 799.9ms\n",
      "Speed: 4.4ms preprocess, 799.9ms inference, 10.6ms postprocess per image at shape (1, 3, 640, 480)\n",
      "item: 63.0\n",
      "item: 63.0\n",
      "item: 63.0\n"
     ]
    },
    {
     "name": "stderr",
     "output_type": "stream",
     "text": [
      " 32%|███▏      | 106/333 [00:51<03:03,  1.24it/s]"
     ]
    },
    {
     "name": "stdout",
     "output_type": "stream",
     "text": [
      "item: 63.0\n",
      "\n",
      "image 1/1 /Users/aneeshkalla/Desktop/HackTJ11.0/laptop_dataset/IMG_3596.png: 640x480 1 person, 2 bottles, 2 laptops, 1 mouse, 2 keyboards, 1 cell phone, 1 book, 576.3ms\n",
      "Speed: 3.1ms preprocess, 576.3ms inference, 4.2ms postprocess per image at shape (1, 3, 640, 480)\n"
     ]
    },
    {
     "name": "stderr",
     "output_type": "stream",
     "text": [
      " 34%|███▍      | 114/333 [00:53<01:52,  1.94it/s]"
     ]
    },
    {
     "name": "stdout",
     "output_type": "stream",
     "text": [
      "item: 63.0\n",
      "item: 73.0\n",
      "item: 63.0\n",
      "\n",
      "image 1/1 /Users/aneeshkalla/Desktop/HackTJ11.0/laptop_dataset/IMG_3637.png: 640x480 2 persons, 4 bottles, 1 laptop, 1 clock, 536.7ms\n",
      "Speed: 3.2ms preprocess, 536.7ms inference, 5.3ms postprocess per image at shape (1, 3, 640, 480)\n"
     ]
    },
    {
     "name": "stderr",
     "output_type": "stream",
     "text": [
      " 36%|███▌      | 119/333 [00:55<01:40,  2.13it/s]"
     ]
    },
    {
     "name": "stdout",
     "output_type": "stream",
     "text": [
      "item: 63.0\n",
      "\n",
      "image 1/1 /Users/aneeshkalla/Desktop/HackTJ11.0/laptop_dataset/IMG_3623.png: 640x480 1 person, 1 cat, 1 handbag, 1 cup, 1 dining table, 1 laptop, 1 mouse, 1 cell phone, 1 book, 503.2ms\n",
      "Speed: 2.8ms preprocess, 503.2ms inference, 6.4ms postprocess per image at shape (1, 3, 640, 480)\n",
      "item: 63.0\n",
      "item: 73.0\n"
     ]
    },
    {
     "name": "stderr",
     "output_type": "stream",
     "text": [
      " 36%|███▌      | 120/333 [00:57<02:08,  1.65it/s]"
     ]
    },
    {
     "name": "stdout",
     "output_type": "stream",
     "text": [
      "\n",
      "image 1/1 /Users/aneeshkalla/Desktop/HackTJ11.0/laptop_dataset/IMG_3622.png: 640x480 1 person, 1 cat, 2 backpacks, 1 handbag, 1 laptop, 1 mouse, 1 keyboard, 464.6ms\n",
      "Speed: 3.6ms preprocess, 464.6ms inference, 4.1ms postprocess per image at shape (1, 3, 640, 480)\n"
     ]
    },
    {
     "name": "stderr",
     "output_type": "stream",
     "text": [
      " 36%|███▋      | 121/333 [00:59<02:40,  1.32it/s]"
     ]
    },
    {
     "name": "stdout",
     "output_type": "stream",
     "text": [
      "item: 63.0\n",
      "\n",
      "image 1/1 /Users/aneeshkalla/Desktop/HackTJ11.0/laptop_dataset/IMG_3636.png: 640x480 2 persons, 4 bottles, 1 laptop, 1 cell phone, 1 clock, 602.8ms\n",
      "Speed: 3.6ms preprocess, 602.8ms inference, 7.1ms postprocess per image at shape (1, 3, 640, 480)\n"
     ]
    },
    {
     "name": "stderr",
     "output_type": "stream",
     "text": [
      " 37%|███▋      | 122/333 [01:02<03:22,  1.04it/s]"
     ]
    },
    {
     "name": "stdout",
     "output_type": "stream",
     "text": [
      "item: 63.0\n",
      "\n",
      "image 1/1 /Users/aneeshkalla/Desktop/HackTJ11.0/laptop_dataset/IMG_3597.png: 640x480 1 tv, 1 laptop, 1 mouse, 2 books, 599.9ms\n",
      "Speed: 3.5ms preprocess, 599.9ms inference, 5.0ms postprocess per image at shape (1, 3, 640, 480)\n",
      "item: 73.0\n",
      "item: 73.0\n"
     ]
    },
    {
     "name": "stderr",
     "output_type": "stream",
     "text": [
      " 38%|███▊      | 126/333 [01:04<02:49,  1.22it/s]"
     ]
    },
    {
     "name": "stdout",
     "output_type": "stream",
     "text": [
      "item: 63.0\n",
      "\n",
      "image 1/1 /Users/aneeshkalla/Desktop/HackTJ11.0/laptop_dataset/IMG_3632.png: 640x480 1 person, 2 bottles, 1 laptop, 1 keyboard, 1 cell phone, 611.0ms\n",
      "Speed: 4.5ms preprocess, 611.0ms inference, 6.3ms postprocess per image at shape (1, 3, 640, 480)\n"
     ]
    },
    {
     "name": "stderr",
     "output_type": "stream",
     "text": [
      " 41%|████      | 135/333 [01:06<01:36,  2.04it/s]"
     ]
    },
    {
     "name": "stdout",
     "output_type": "stream",
     "text": [
      "item: 63.0\n",
      "\n",
      "image 1/1 /Users/aneeshkalla/Desktop/HackTJ11.0/laptop_dataset/IMG_3626.png: 640x480 1 person, 1 bottle, 1 cell phone, 1 book, 442.0ms\n",
      "Speed: 3.9ms preprocess, 442.0ms inference, 3.4ms postprocess per image at shape (1, 3, 640, 480)\n"
     ]
    },
    {
     "name": "stderr",
     "output_type": "stream",
     "text": [
      " 41%|████      | 136/333 [01:09<02:03,  1.59it/s]"
     ]
    },
    {
     "name": "stdout",
     "output_type": "stream",
     "text": [
      "item: 73.0\n",
      "\n",
      "image 1/1 /Users/aneeshkalla/Desktop/HackTJ11.0/laptop_dataset/IMG_3627.png: 640x480 2 persons, 2 laptops, 1 mouse, 1 book, 841.1ms\n",
      "Speed: 3.7ms preprocess, 841.1ms inference, 6.1ms postprocess per image at shape (1, 3, 640, 480)\n",
      "item: 63.0\n",
      "item: 63.0\n"
     ]
    },
    {
     "name": "stderr",
     "output_type": "stream",
     "text": [
      " 42%|████▏     | 139/333 [01:11<02:16,  1.42it/s]"
     ]
    },
    {
     "name": "stdout",
     "output_type": "stream",
     "text": [
      "item: 73.0\n",
      "\n",
      "image 1/1 /Users/aneeshkalla/Desktop/HackTJ11.0/laptop_dataset/IMG_3633.png: 640x480 3 persons, 2 bottles, 1 cup, 2 laptops, 1 book, 539.5ms\n",
      "Speed: 3.1ms preprocess, 539.5ms inference, 6.6ms postprocess per image at shape (1, 3, 640, 480)\n"
     ]
    },
    {
     "name": "stderr",
     "output_type": "stream",
     "text": [
      " 42%|████▏     | 140/333 [01:14<02:49,  1.14it/s]"
     ]
    },
    {
     "name": "stdout",
     "output_type": "stream",
     "text": [
      "item: 63.0\n",
      "item: 63.0\n",
      "item: 73.0\n",
      "\n",
      "image 1/1 /Users/aneeshkalla/Desktop/HackTJ11.0/laptop_dataset/IMG_3592.png: 640x480 1 person, 1 backpack, 2 bottles, 2 cups, 1 fork, 2 bowls, 2 dining tables, 1 laptop, 603.7ms\n",
      "Speed: 3.8ms preprocess, 603.7ms inference, 8.2ms postprocess per image at shape (1, 3, 640, 480)\n"
     ]
    },
    {
     "name": "stderr",
     "output_type": "stream",
     "text": [
      " 43%|████▎     | 143/333 [01:16<02:36,  1.22it/s]"
     ]
    },
    {
     "name": "stdout",
     "output_type": "stream",
     "text": [
      "item: 63.0\n",
      "\n",
      "image 1/1 /Users/aneeshkalla/Desktop/HackTJ11.0/laptop_dataset/IMG_3590.png: 640x480 2 persons, 1 backpack, 1 handbag, 2 bottles, 2 cups, 1 fork, 1 knife, 1 bowl, 1 chair, 2 dining tables, 1 keyboard, 1 cell phone, 456.3ms\n",
      "Speed: 2.7ms preprocess, 456.3ms inference, 8.0ms postprocess per image at shape (1, 3, 640, 480)\n"
     ]
    },
    {
     "name": "stderr",
     "output_type": "stream",
     "text": [
      " 44%|████▍     | 148/333 [01:17<01:53,  1.63it/s]"
     ]
    },
    {
     "name": "stdout",
     "output_type": "stream",
     "text": [
      "\n",
      "image 1/1 /Users/aneeshkalla/Desktop/HackTJ11.0/laptop_dataset/IMG_3625.png: 640x480 1 person, 1 bottle, 1 laptop, 2 mouses, 1 cell phone, 457.0ms\n",
      "Speed: 2.8ms preprocess, 457.0ms inference, 4.6ms postprocess per image at shape (1, 3, 640, 480)\n"
     ]
    },
    {
     "name": "stderr",
     "output_type": "stream",
     "text": [
      " 46%|████▌     | 153/333 [01:19<01:33,  1.92it/s]"
     ]
    },
    {
     "name": "stdout",
     "output_type": "stream",
     "text": [
      "item: 63.0\n",
      "\n",
      "image 1/1 /Users/aneeshkalla/Desktop/HackTJ11.0/laptop_dataset/IMG_3631.png: 640x480 2 persons, 2 bottles, 1 chair, 1 dining table, 1 laptop, 1 cell phone, 486.4ms\n",
      "Speed: 3.2ms preprocess, 486.4ms inference, 5.7ms postprocess per image at shape (1, 3, 640, 480)\n"
     ]
    },
    {
     "name": "stderr",
     "output_type": "stream",
     "text": [
      " 46%|████▌     | 154/333 [01:21<01:56,  1.54it/s]"
     ]
    },
    {
     "name": "stdout",
     "output_type": "stream",
     "text": [
      "item: 63.0\n",
      "\n",
      "image 1/1 /Users/aneeshkalla/Desktop/HackTJ11.0/laptop_dataset/IMG_3619.png: 640x480 2 persons, 1 bench, 1 suitcase, 2 bottles, 1 chair, 1 dining table, 2 laptops, 1 mouse, 2 cell phones, 448.0ms\n",
      "Speed: 2.5ms preprocess, 448.0ms inference, 6.0ms postprocess per image at shape (1, 3, 640, 480)\n"
     ]
    },
    {
     "name": "stderr",
     "output_type": "stream",
     "text": [
      " 47%|████▋     | 156/333 [01:23<02:02,  1.44it/s]"
     ]
    },
    {
     "name": "stdout",
     "output_type": "stream",
     "text": [
      "item: 63.0\n",
      "item: 63.0\n",
      "\n",
      "image 1/1 /Users/aneeshkalla/Desktop/HackTJ11.0/laptop_dataset/IMG_3618.png: 640x480 2 persons, 1 handbag, 2 bottles, 1 chair, 2 laptops, 2 mouses, 1 keyboard, 1 cell phone, 455.5ms\n",
      "Speed: 3.2ms preprocess, 455.5ms inference, 6.4ms postprocess per image at shape (1, 3, 640, 480)\n"
     ]
    },
    {
     "name": "stderr",
     "output_type": "stream",
     "text": [
      " 47%|████▋     | 158/333 [01:25<02:11,  1.33it/s]"
     ]
    },
    {
     "name": "stdout",
     "output_type": "stream",
     "text": [
      "item: 63.0\n",
      "item: 63.0\n",
      "\n",
      "image 1/1 /Users/aneeshkalla/Desktop/HackTJ11.0/laptop_dataset/IMG_3630.png: 640x480 1 person, 1 skateboard, 2 bottles, 1 dining table, 1 laptop, 428.1ms\n",
      "Speed: 3.8ms preprocess, 428.1ms inference, 3.9ms postprocess per image at shape (1, 3, 640, 480)\n"
     ]
    },
    {
     "name": "stderr",
     "output_type": "stream",
     "text": [
      " 48%|████▊     | 159/333 [01:26<02:38,  1.10it/s]"
     ]
    },
    {
     "name": "stdout",
     "output_type": "stream",
     "text": [
      "item: 63.0\n",
      "\n",
      "image 1/1 /Users/aneeshkalla/Desktop/HackTJ11.0/laptop_dataset/IMG_3624.png: 640x480 1 person, 2 bottles, 1 couch, 1 laptop, 1 cell phone, 435.7ms\n",
      "Speed: 3.6ms preprocess, 435.7ms inference, 3.7ms postprocess per image at shape (1, 3, 640, 480)\n"
     ]
    },
    {
     "name": "stderr",
     "output_type": "stream",
     "text": [
      " 48%|████▊     | 161/333 [01:28<02:34,  1.12it/s]"
     ]
    },
    {
     "name": "stdout",
     "output_type": "stream",
     "text": [
      "item: 63.0\n",
      "\n",
      "image 1/1 /Users/aneeshkalla/Desktop/HackTJ11.0/laptop_dataset/IMG_3591.png: 640x480 1 person, 1 backpack, 1 handbag, 2 bottles, 2 cups, 1 fork, 1 bowl, 1 chair, 1 dining table, 2 laptops, 1 remote, 1 keyboard, 2 books, 461.2ms\n",
      "Speed: 3.0ms preprocess, 461.2ms inference, 7.8ms postprocess per image at shape (1, 3, 640, 480)\n"
     ]
    },
    {
     "name": "stderr",
     "output_type": "stream",
     "text": [
      " 50%|████▉     | 166/333 [01:30<01:46,  1.57it/s]"
     ]
    },
    {
     "name": "stdout",
     "output_type": "stream",
     "text": [
      "item: 63.0\n",
      "item: 73.0\n",
      "item: 63.0\n",
      "item: 73.0\n",
      "\n",
      "image 1/1 /Users/aneeshkalla/Desktop/HackTJ11.0/laptop_dataset/IMG_3629.png: 640x480 2 persons, 1 dining table, 1 laptop, 1 mouse, 1 cell phone, 2 books, 417.5ms\n",
      "Speed: 2.4ms preprocess, 417.5ms inference, 6.2ms postprocess per image at shape (1, 3, 640, 480)\n",
      "item: 63.0\n",
      "item: 73.0\n",
      "item: 73.0\n"
     ]
    },
    {
     "name": "stderr",
     "output_type": "stream",
     "text": [
      " 53%|█████▎    | 177/333 [01:32<00:54,  2.88it/s]"
     ]
    },
    {
     "name": "stdout",
     "output_type": "stream",
     "text": [
      "\n",
      "image 1/1 /Users/aneeshkalla/Desktop/HackTJ11.0/laptop_dataset/IMG_3601.png: 640x480 2 persons, 1 bottle, 1 chair, 2 laptops, 2 mouses, 2 keyboards, 1 book, 412.4ms\n",
      "Speed: 2.4ms preprocess, 412.4ms inference, 5.8ms postprocess per image at shape (1, 3, 640, 480)\n"
     ]
    },
    {
     "name": "stderr",
     "output_type": "stream",
     "text": [
      " 53%|█████▎    | 178/333 [01:34<01:12,  2.15it/s]"
     ]
    },
    {
     "name": "stdout",
     "output_type": "stream",
     "text": [
      "item: 63.0\n",
      "item: 63.0\n",
      "item: 73.0\n",
      "\n",
      "image 1/1 /Users/aneeshkalla/Desktop/HackTJ11.0/laptop_dataset/IMG_3615.png: 640x480 2 persons, 3 bottles, 2 chairs, 1 laptop, 2 keyboards, 2 cell phones, 1 book, 549.3ms\n",
      "Speed: 3.7ms preprocess, 549.3ms inference, 8.4ms postprocess per image at shape (1, 3, 640, 480)\n"
     ]
    },
    {
     "name": "stderr",
     "output_type": "stream",
     "text": [
      " 54%|█████▍    | 180/333 [01:36<01:23,  1.83it/s]"
     ]
    },
    {
     "name": "stdout",
     "output_type": "stream",
     "text": [
      "item: 63.0\n",
      "item: 73.0\n",
      "\n",
      "image 1/1 /Users/aneeshkalla/Desktop/HackTJ11.0/laptop_dataset/IMG_3614.png: 640x480 4 persons, 1 bottle, 546.9ms\n",
      "Speed: 2.4ms preprocess, 546.9ms inference, 3.8ms postprocess per image at shape (1, 3, 640, 480)\n"
     ]
    },
    {
     "name": "stderr",
     "output_type": "stream",
     "text": [
      " 55%|█████▍    | 182/333 [01:38<01:33,  1.62it/s]"
     ]
    },
    {
     "name": "stdout",
     "output_type": "stream",
     "text": [
      "\n",
      "image 1/1 /Users/aneeshkalla/Desktop/HackTJ11.0/laptop_dataset/IMG_3600.png: 640x480 2 persons, 1 bottle, 2 laptops, 2 mouses, 420.9ms\n",
      "Speed: 2.6ms preprocess, 420.9ms inference, 3.5ms postprocess per image at shape (1, 3, 640, 480)\n"
     ]
    },
    {
     "name": "stderr",
     "output_type": "stream",
     "text": [
      " 55%|█████▍    | 183/333 [01:39<01:55,  1.30it/s]"
     ]
    },
    {
     "name": "stdout",
     "output_type": "stream",
     "text": [
      "item: 63.0\n",
      "item: 63.0\n",
      "\n",
      "image 1/1 /Users/aneeshkalla/Desktop/HackTJ11.0/laptop_dataset/IMG_3628.png: 640x480 2 persons, 1 laptop, 2 mouses, 1 cell phone, 1 book, 507.4ms\n",
      "Speed: 4.6ms preprocess, 507.4ms inference, 3.9ms postprocess per image at shape (1, 3, 640, 480)\n"
     ]
    },
    {
     "name": "stderr",
     "output_type": "stream",
     "text": [
      " 56%|█████▌    | 185/333 [01:41<02:03,  1.20it/s]"
     ]
    },
    {
     "name": "stdout",
     "output_type": "stream",
     "text": [
      "item: 63.0\n",
      "item: 73.0\n",
      "\n",
      "image 1/1 /Users/aneeshkalla/Desktop/HackTJ11.0/laptop_dataset/IMG_3616.png: 640x480 4 persons, 2 bottles, 3 chairs, 2 laptops, 2 cell phones, 527.5ms\n",
      "Speed: 2.4ms preprocess, 527.5ms inference, 6.6ms postprocess per image at shape (1, 3, 640, 480)\n"
     ]
    },
    {
     "name": "stderr",
     "output_type": "stream",
     "text": [
      " 60%|██████    | 200/333 [01:43<00:42,  3.14it/s]"
     ]
    },
    {
     "name": "stdout",
     "output_type": "stream",
     "text": [
      "item: 63.0\n",
      "item: 63.0\n",
      "\n",
      "image 1/1 /Users/aneeshkalla/Desktop/HackTJ11.0/laptop_dataset/IMG_3602.png: 640x480 1 person, 2 bottles, 2 laptops, 2 mouses, 2 keyboards, 527.3ms\n",
      "Speed: 2.9ms preprocess, 527.3ms inference, 6.5ms postprocess per image at shape (1, 3, 640, 480)\n"
     ]
    },
    {
     "name": "stderr",
     "output_type": "stream",
     "text": [
      " 60%|██████    | 201/333 [01:46<00:58,  2.25it/s]"
     ]
    },
    {
     "name": "stdout",
     "output_type": "stream",
     "text": [
      "item: 63.0\n",
      "item: 63.0\n",
      "\n",
      "image 1/1 /Users/aneeshkalla/Desktop/HackTJ11.0/laptop_dataset/IMG_3603.png: 640x480 3 persons, 5 bottles, 4 cups, 3 laptops, 1 mouse, 1 keyboard, 1 cell phone, 716.3ms\n",
      "Speed: 3.7ms preprocess, 716.3ms inference, 11.2ms postprocess per image at shape (1, 3, 640, 480)\n",
      "item: 63.0\n",
      "item: 63.0\n",
      "item: 63.0\n"
     ]
    },
    {
     "name": "stderr",
     "output_type": "stream",
     "text": [
      " 61%|██████    | 202/333 [01:48<01:22,  1.58it/s]"
     ]
    },
    {
     "name": "stdout",
     "output_type": "stream",
     "text": [
      "\n",
      "image 1/1 /Users/aneeshkalla/Desktop/HackTJ11.0/laptop_dataset/IMG_3617.png: 640x480 3 persons, 2 bottles, 3 chairs, 1 laptop, 2 keyboards, 1 cell phone, 1 book, 448.5ms\n",
      "Speed: 2.7ms preprocess, 448.5ms inference, 6.8ms postprocess per image at shape (1, 3, 640, 480)\n"
     ]
    },
    {
     "name": "stderr",
     "output_type": "stream",
     "text": [
      " 61%|██████    | 203/333 [01:50<01:42,  1.27it/s]"
     ]
    },
    {
     "name": "stdout",
     "output_type": "stream",
     "text": [
      "item: 73.0\n",
      "item: 63.0\n",
      "\n",
      "image 1/1 /Users/aneeshkalla/Desktop/HackTJ11.0/laptop_dataset/IMG_3613.png: 640x480 2 persons, 1 cat, 1 bottle, 1 laptop, 1 remote, 1 keyboard, 1 book, 424.1ms\n",
      "Speed: 3.5ms preprocess, 424.1ms inference, 4.9ms postprocess per image at shape (1, 3, 640, 480)\n"
     ]
    },
    {
     "name": "stderr",
     "output_type": "stream",
     "text": [
      " 65%|██████▌   | 218/333 [01:52<00:36,  3.15it/s]"
     ]
    },
    {
     "name": "stdout",
     "output_type": "stream",
     "text": [
      "item: 73.0\n",
      "item: 63.0\n",
      "\n",
      "image 1/1 /Users/aneeshkalla/Desktop/HackTJ11.0/laptop_dataset/IMG_3607.png: 640x480 3 persons, 5 bottles, 3 cups, 1 chair, 1 dining table, 2 laptops, 1 mouse, 1 book, 409.0ms\n",
      "Speed: 2.8ms preprocess, 409.0ms inference, 8.3ms postprocess per image at shape (1, 3, 640, 480)\n"
     ]
    },
    {
     "name": "stderr",
     "output_type": "stream",
     "text": [
      " 66%|██████▌   | 219/333 [01:54<00:46,  2.44it/s]"
     ]
    },
    {
     "name": "stdout",
     "output_type": "stream",
     "text": [
      "item: 63.0\n",
      "item: 63.0\n",
      "item: 73.0\n",
      "\n",
      "image 1/1 /Users/aneeshkalla/Desktop/HackTJ11.0/laptop_dataset/IMG_3606.png: 640x480 2 persons, 4 bottles, 1 cup, 2 chairs, 2 laptops, 2 mouses, 2 keyboards, 1 book, 569.2ms\n",
      "Speed: 3.0ms preprocess, 569.2ms inference, 9.1ms postprocess per image at shape (1, 3, 640, 480)\n"
     ]
    },
    {
     "name": "stderr",
     "output_type": "stream",
     "text": [
      " 67%|██████▋   | 224/333 [01:56<00:44,  2.47it/s]"
     ]
    },
    {
     "name": "stdout",
     "output_type": "stream",
     "text": [
      "item: 63.0\n",
      "item: 63.0\n",
      "item: 73.0\n",
      "\n",
      "image 1/1 /Users/aneeshkalla/Desktop/HackTJ11.0/laptop_dataset/IMG_3612.png: 640x480 3 persons, 1 dog, 1 bottle, 1 chair, 1 keyboard, 1 cell phone, 1 book, 536.5ms\n",
      "Speed: 2.4ms preprocess, 536.5ms inference, 5.0ms postprocess per image at shape (1, 3, 640, 480)\n"
     ]
    },
    {
     "name": "stderr",
     "output_type": "stream",
     "text": [
      " 68%|██████▊   | 225/333 [01:58<00:55,  1.95it/s]"
     ]
    },
    {
     "name": "stdout",
     "output_type": "stream",
     "text": [
      "item: 73.0\n",
      "\n",
      "image 1/1 /Users/aneeshkalla/Desktop/HackTJ11.0/laptop_dataset/IMG_3599.png: 640x480 3 persons, 1 dining table, 1 laptop, 1 remote, 1 keyboard, 3 books, 461.3ms\n",
      "Speed: 2.8ms preprocess, 461.3ms inference, 5.3ms postprocess per image at shape (1, 3, 640, 480)\n",
      "item: 63.0\n",
      "item: 73.0\n",
      "item: 73.0\n",
      "item: 73.0\n"
     ]
    },
    {
     "name": "stderr",
     "output_type": "stream",
     "text": [
      " 70%|███████   | 234/333 [02:00<00:36,  2.75it/s]"
     ]
    },
    {
     "name": "stdout",
     "output_type": "stream",
     "text": [
      "\n",
      "image 1/1 /Users/aneeshkalla/Desktop/HackTJ11.0/laptop_dataset/IMG_3604.png: 640x480 2 persons, 4 bottles, 4 cups, 3 laptops, 2 mouses, 1 keyboard, 1 cell phone, 507.7ms\n",
      "Speed: 5.1ms preprocess, 507.7ms inference, 7.8ms postprocess per image at shape (1, 3, 640, 480)\n"
     ]
    },
    {
     "name": "stderr",
     "output_type": "stream",
     "text": [
      " 72%|███████▏  | 239/333 [02:02<00:35,  2.63it/s]"
     ]
    },
    {
     "name": "stdout",
     "output_type": "stream",
     "text": [
      "item: 63.0\n",
      "item: 63.0\n",
      "item: 63.0\n",
      "\n",
      "image 1/1 /Users/aneeshkalla/Desktop/HackTJ11.0/laptop_dataset/IMG_3610.png: 640x480 3 persons, 5 bottles, 4 cups, 1 fork, 1 bowl, 1 chair, 1 dining table, 3 laptops, 1 keyboard, 1 book, 1103.6ms\n",
      "Speed: 32.9ms preprocess, 1103.6ms inference, 10.4ms postprocess per image at shape (1, 3, 640, 480)\n",
      "item: 63.0\n",
      "item: 63.0\n",
      "item: 73.0\n",
      "item: 63.0\n"
     ]
    },
    {
     "name": "stderr",
     "output_type": "stream",
     "text": [
      " 72%|███████▏  | 240/333 [02:04<00:51,  1.79it/s]"
     ]
    },
    {
     "name": "stdout",
     "output_type": "stream",
     "text": [
      "\n",
      "image 1/1 /Users/aneeshkalla/Desktop/HackTJ11.0/laptop_dataset/IMG_3638.png: 640x480 1 person, 4 bottles, 1 bowl, 1 laptop, 2 keyboards, 1 book, 518.2ms\n",
      "Speed: 2.9ms preprocess, 518.2ms inference, 4.6ms postprocess per image at shape (1, 3, 640, 480)\n"
     ]
    },
    {
     "name": "stderr",
     "output_type": "stream",
     "text": [
      " 73%|███████▎  | 242/333 [02:06<00:58,  1.56it/s]"
     ]
    },
    {
     "name": "stdout",
     "output_type": "stream",
     "text": [
      "item: 63.0\n",
      "item: 73.0\n",
      "\n",
      "image 1/1 /Users/aneeshkalla/Desktop/HackTJ11.0/laptop_dataset/IMG_3639.png: 640x480 2 persons, 4 bottles, 1 laptop, 2 cell phones, 1 clock, 487.8ms\n",
      "Speed: 2.5ms preprocess, 487.8ms inference, 5.2ms postprocess per image at shape (1, 3, 640, 480)\n"
     ]
    },
    {
     "name": "stderr",
     "output_type": "stream",
     "text": [
      " 74%|███████▍  | 246/333 [02:08<00:51,  1.70it/s]"
     ]
    },
    {
     "name": "stdout",
     "output_type": "stream",
     "text": [
      "item: 63.0\n",
      "\n",
      "image 1/1 /Users/aneeshkalla/Desktop/HackTJ11.0/laptop_dataset/IMG_3611.png: 640x480 3 persons, 1 skateboard, 5 bottles, 2 cups, 1 fork, 1 knife, 1 bowl, 2 dining tables, 3 laptops, 2 books, 499.2ms\n",
      "Speed: 2.5ms preprocess, 499.2ms inference, 12.4ms postprocess per image at shape (1, 3, 640, 480)\n",
      "item: 63.0\n",
      "item: 73.0\n",
      "item: 63.0\n",
      "item: 73.0\n"
     ]
    },
    {
     "name": "stderr",
     "output_type": "stream",
     "text": [
      " 74%|███████▍  | 247/333 [02:11<01:05,  1.32it/s]"
     ]
    },
    {
     "name": "stdout",
     "output_type": "stream",
     "text": [
      "item: 63.0\n",
      "\n",
      "image 1/1 /Users/aneeshkalla/Desktop/HackTJ11.0/laptop_dataset/IMG_3605.png: 640x480 2 persons, 2 bottles, 4 cups, 1 laptop, 1 mouse, 1 keyboard, 1 cell phone, 1 book, 501.4ms\n",
      "Speed: 3.6ms preprocess, 501.4ms inference, 6.1ms postprocess per image at shape (1, 3, 640, 480)\n"
     ]
    },
    {
     "name": "stderr",
     "output_type": "stream",
     "text": [
      " 74%|███████▍  | 248/333 [02:13<01:18,  1.09it/s]"
     ]
    },
    {
     "name": "stdout",
     "output_type": "stream",
     "text": [
      "item: 63.0\n",
      "item: 73.0\n",
      "\n",
      "image 1/1 /Users/aneeshkalla/Desktop/HackTJ11.0/laptop_dataset/IMG_3598.png: 640x480 1 person, 1 dining table, 1 tv, 3 laptops, 2 mouses, 1 keyboard, 1 cell phone, 3 books, 550.7ms\n",
      "Speed: 2.5ms preprocess, 550.7ms inference, 5.3ms postprocess per image at shape (1, 3, 640, 480)\n",
      "item: 63.0\n",
      "item: 63.0\n",
      "item: 63.0\n",
      "item: 73.0\n"
     ]
    },
    {
     "name": "stderr",
     "output_type": "stream",
     "text": [
      " 76%|███████▌  | 252/333 [02:15<01:01,  1.32it/s]"
     ]
    },
    {
     "name": "stdout",
     "output_type": "stream",
     "text": [
      "item: 73.0\n",
      "item: 73.0\n",
      "\n",
      "image 1/1 /Users/aneeshkalla/Desktop/HackTJ11.0/laptop_dataset/IMG_3662.png: 480x640 2 persons, 2 bottles, 2 laptops, 1 keyboard, 2 books, 559.5ms\n",
      "Speed: 2.7ms preprocess, 559.5ms inference, 4.3ms postprocess per image at shape (1, 3, 480, 640)\n"
     ]
    },
    {
     "name": "stderr",
     "output_type": "stream",
     "text": [
      " 79%|███████▉  | 263/333 [02:17<00:28,  2.49it/s]"
     ]
    },
    {
     "name": "stdout",
     "output_type": "stream",
     "text": [
      "item: 63.0\n",
      "item: 63.0\n",
      "item: 73.0\n",
      "item: 73.0\n",
      "\n",
      "image 1/1 /Users/aneeshkalla/Desktop/HackTJ11.0/laptop_dataset/IMG_3663.png: 480x640 2 persons, 1 backpack, 2 bottles, 1 cup, 2 laptops, 1 cell phone, 1 book, 1 clock, 490.5ms\n",
      "Speed: 2.4ms preprocess, 490.5ms inference, 6.6ms postprocess per image at shape (1, 3, 480, 640)\n"
     ]
    },
    {
     "name": "stderr",
     "output_type": "stream",
     "text": [
      " 80%|███████▉  | 265/333 [02:19<00:32,  2.09it/s]"
     ]
    },
    {
     "name": "stdout",
     "output_type": "stream",
     "text": [
      "item: 63.0\n",
      "item: 63.0\n",
      "item: 73.0\n",
      "\n",
      "image 1/1 /Users/aneeshkalla/Desktop/HackTJ11.0/laptop_dataset/IMG_3661.png: 480x640 2 persons, 1 handbag, 2 bottles, 1 cup, 1 chair, 1 dining table, 3 laptops, 1 book, 655.8ms\n",
      "Speed: 5.5ms preprocess, 655.8ms inference, 7.3ms postprocess per image at shape (1, 3, 480, 640)\n"
     ]
    },
    {
     "name": "stderr",
     "output_type": "stream",
     "text": [
      " 85%|████████▍ | 283/333 [02:21<00:12,  4.02it/s]"
     ]
    },
    {
     "name": "stdout",
     "output_type": "stream",
     "text": [
      "item: 63.0\n",
      "item: 73.0\n",
      "item: 63.0\n",
      "item: 63.0\n",
      "\n",
      "image 1/1 /Users/aneeshkalla/Desktop/HackTJ11.0/laptop_dataset/IMG_3660.png: 480x640 3 persons, 3 laptops, 4 mouses, 1 keyboard, 1 cell phone, 523.1ms\n",
      "Speed: 3.8ms preprocess, 523.1ms inference, 6.6ms postprocess per image at shape (1, 3, 480, 640)\n"
     ]
    },
    {
     "name": "stderr",
     "output_type": "stream",
     "text": [
      " 85%|████████▌ | 284/333 [02:23<00:16,  3.00it/s]"
     ]
    },
    {
     "name": "stdout",
     "output_type": "stream",
     "text": [
      "item: 63.0\n",
      "item: 63.0\n",
      "item: 63.0\n",
      "\n",
      "image 1/1 /Users/aneeshkalla/Desktop/HackTJ11.0/laptop_dataset/IMG_3648.png: 640x480 2 persons, 1 bottle, 2 laptops, 1 keyboard, 1 cell phone, 409.6ms\n",
      "Speed: 3.1ms preprocess, 409.6ms inference, 5.1ms postprocess per image at shape (1, 3, 640, 480)\n"
     ]
    },
    {
     "name": "stderr",
     "output_type": "stream",
     "text": [
      " 86%|████████▋ | 288/333 [02:25<00:16,  2.80it/s]"
     ]
    },
    {
     "name": "stdout",
     "output_type": "stream",
     "text": [
      "item: 63.0\n",
      "item: 63.0\n",
      "\n",
      "image 1/1 /Users/aneeshkalla/Desktop/HackTJ11.0/laptop_dataset/IMG_3664.png: 480x640 3 persons, 1 suitcase, 3 bottles, 3 cups, 3 laptops, 1 keyboard, 545.0ms\n",
      "Speed: 5.0ms preprocess, 545.0ms inference, 8.0ms postprocess per image at shape (1, 3, 480, 640)\n"
     ]
    },
    {
     "name": "stderr",
     "output_type": "stream",
     "text": [
      " 90%|████████▉ | 299/333 [02:27<00:09,  3.54it/s]"
     ]
    },
    {
     "name": "stdout",
     "output_type": "stream",
     "text": [
      "item: 63.0\n",
      "item: 63.0\n",
      "item: 63.0\n",
      "\n",
      "image 1/1 /Users/aneeshkalla/Desktop/HackTJ11.0/laptop_dataset/IMG_3658.png: 480x640 4 persons, 1 bottle, 2 laptops, 1 mouse, 1 keyboard, 1 cell phone, 409.2ms\n",
      "Speed: 2.5ms preprocess, 409.2ms inference, 5.3ms postprocess per image at shape (1, 3, 480, 640)\n"
     ]
    },
    {
     "name": "stderr",
     "output_type": "stream",
     "text": [
      " 91%|█████████ | 302/333 [02:29<00:10,  3.08it/s]"
     ]
    },
    {
     "name": "stdout",
     "output_type": "stream",
     "text": [
      "item: 63.0\n",
      "item: 63.0\n",
      "\n",
      "image 1/1 /Users/aneeshkalla/Desktop/HackTJ11.0/laptop_dataset/IMG_3659.png: 480x640 3 persons, 3 laptops, 2 mouses, 1 keyboard, 1 cell phone, 498.1ms\n",
      "Speed: 3.0ms preprocess, 498.1ms inference, 5.9ms postprocess per image at shape (1, 3, 480, 640)\n",
      "item: 63.0\n",
      "item: 63.0\n"
     ]
    },
    {
     "name": "stderr",
     "output_type": "stream",
     "text": [
      " 92%|█████████▏| 307/333 [02:30<00:08,  2.91it/s]"
     ]
    },
    {
     "name": "stdout",
     "output_type": "stream",
     "text": [
      "item: 63.0\n",
      "\n",
      "image 1/1 /Users/aneeshkalla/Desktop/HackTJ11.0/laptop_dataset/IMG_3665.png: 480x640 2 persons, 3 bottles, 3 cups, 1 chair, 3 laptops, 1 cell phone, 1 book, 1 clock, 475.0ms\n",
      "Speed: 3.6ms preprocess, 475.0ms inference, 8.3ms postprocess per image at shape (1, 3, 480, 640)\n",
      "item: 63.0\n",
      "item: 63.0\n",
      "item: 63.0\n"
     ]
    },
    {
     "name": "stderr",
     "output_type": "stream",
     "text": [
      " 93%|█████████▎| 310/333 [02:33<00:09,  2.45it/s]"
     ]
    },
    {
     "name": "stdout",
     "output_type": "stream",
     "text": [
      "item: 73.0\n",
      "\n",
      "image 1/1 /Users/aneeshkalla/Desktop/HackTJ11.0/laptop_dataset/IMG_3667.png: 640x480 3 persons, 1 bottle, 2 cups, 2 tvs, 1 laptop, 2 keyboards, 1 book, 477.3ms\n",
      "Speed: 2.4ms preprocess, 477.3ms inference, 9.4ms postprocess per image at shape (1, 3, 640, 480)\n"
     ]
    },
    {
     "name": "stderr",
     "output_type": "stream",
     "text": [
      " 96%|█████████▋| 321/333 [02:35<00:03,  3.39it/s]"
     ]
    },
    {
     "name": "stdout",
     "output_type": "stream",
     "text": [
      "item: 63.0\n",
      "item: 73.0\n",
      "\n",
      "image 1/1 /Users/aneeshkalla/Desktop/HackTJ11.0/laptop_dataset/IMG_3666.png: 480x640 2 persons, 2 bottles, 4 cups, 3 chairs, 1 couch, 3 laptops, 1 keyboard, 1 book, 510.9ms\n",
      "Speed: 3.4ms preprocess, 510.9ms inference, 8.2ms postprocess per image at shape (1, 3, 480, 640)\n",
      "item: 63.0\n",
      "item: 63.0\n",
      "item: 73.0\n"
     ]
    },
    {
     "name": "stderr",
     "output_type": "stream",
     "text": [
      "100%|██████████| 333/333 [02:37<00:00,  2.12it/s]"
     ]
    },
    {
     "name": "stdout",
     "output_type": "stream",
     "text": [
      "item: 63.0\n"
     ]
    },
    {
     "name": "stderr",
     "output_type": "stream",
     "text": [
      "\n"
     ]
    }
   ],
   "source": [
    "test_images_dir = 'laptop_dataset'\n",
    "output_dir = test_images_dir  # To save annotated images in the same directory\n",
    "laptop_output_dir = 'laptop_dataset3'\n",
    "\n",
    "# Ensure output_dir exists\n",
    "if not os.path.exists(output_dir):\n",
    "    os.makedirs(output_dir)\n",
    "def resize_mask(mask, frame_shape):\n",
    "    \"\"\"\n",
    "    Resize the mask to match the frame's shape.\n",
    "    \n",
    "    :param mask: The mask to resize.\n",
    "    :param frame_shape: The shape of the frame.\n",
    "    :return: Resized mask.\n",
    "    \"\"\"\n",
    "    # Resize the mask to match the frame's dimensions\n",
    "    return cv2.resize(mask, (frame_shape[1], frame_shape[0]), interpolation=cv2.INTER_NEAREST)\n",
    "def segment_and_annotate_images():\n",
    "    # List all images in the testImages directory\n",
    "    images = [img for img in os.listdir(test_images_dir) if img.lower().endswith(('.png', '.jpg', '.jpeg'))]\n",
    "    \n",
    "    for img_name in tqdm.tqdm(images):\n",
    "        if(img_name.startswith(\"annotated\") or img_name.startswith(\"laptop\")):\n",
    "            continue\n",
    "        img_path = os.path.join(test_images_dir, img_name)\n",
    "        frame = cv2.imread(img_path)\n",
    "\n",
    "        # Make predictions on the frame\n",
    "        pred = model.predict(img_path)[0]  # Assume this returns a list of predictions with masks\n",
    "        frame_with_overlay = pred.plot()\n",
    "        # Here you would process your predictions and overlay them on the frame\n",
    "        # For the sake of example, let's assume you have a function that does this:\n",
    "        # frame_with_overlay = apply_predictions_to_frame(frame, pred)\n",
    "        \n",
    "        # Save the annotated image\n",
    "        annotated_img_name = f\"annotated_{img_name}\"\n",
    "        annotated_img_path = os.path.join(output_dir, annotated_img_name)\n",
    "        cv2.imwrite(annotated_img_path, frame_with_overlay)\n",
    "        \n",
    "        #print(f\"masks: {pred[0].masks}\")\n",
    "\n",
    "        #print(type(pred))\n",
    "        #print(pred)\n",
    "      \n",
    "        # Now, segment out each laptop if the predictions include bounding boxes or masks for laptops\n",
    "        laptopCount = 0\n",
    "        laptop_class_id = 63\n",
    "        for detection in pred:\n",
    "            if detection.boxes and detection.masks:  # Ensure there are boxes and masks\n",
    "                for i, box in enumerate(detection.boxes):\n",
    "                    #print(box.cls)\n",
    "                    if box.cls.item() == laptop_class_id or box.cls.item() == 73:  # Check if the detected class is a laptop\n",
    "                        mask = detection.masks.data[i]  # Get the corresponding mask\n",
    "                        resized_mask = resize_mask(mask.numpy(), frame.shape)\n",
    "\n",
    "                        print(f\"item: {box.cls.item()}\")\n",
    "                        # The mask is a binary (0 or 1) numpy array with the same height and width as the frame\n",
    "                        # Convert mask to a boolean array where True represents the laptop\n",
    "                        mask_bool = resized_mask.astype(bool)\n",
    "\n",
    "                        # Find bounds for cropping using the mask\n",
    "                        rows = np.any(mask_bool, axis=1)\n",
    "                        cols = np.any(mask_bool, axis=0)\n",
    "                        rows_nonzero = np.where(rows)[0]\n",
    "                        cols_nonzero = np.where(cols)[0]\n",
    "\n",
    "                        if rows_nonzero.size and cols_nonzero.size:\n",
    "                            y_min, y_max = rows_nonzero[[0, -1]]\n",
    "                            x_min, x_max = cols_nonzero[[0, -1]]\n",
    "                            margin = 30  # Define the margin size\n",
    "\n",
    "                            # Ensure the margin does not exceed the image bounds\n",
    "                            y_min = max(y_min - margin, 0)\n",
    "                            y_max = min(y_max + margin, frame.shape[0] - 1)\n",
    "                            x_min = max(x_min - margin, 0)\n",
    "                            x_max = min(x_max + margin, frame.shape[1] - 1)\n",
    "\n",
    "                            # Crop the original image (frame) to these bounds\n",
    "                            laptop_img_cropped = frame[y_min:y_max+1, x_min:x_max+1]\n",
    "                        else:\n",
    "                            laptop_img_cropped = frame\n",
    "\n",
    "                        # laptop_img_cropped now contains the zoomed-in part of the image\n",
    "                        # Save or process the laptop_img as needed\n",
    "                        # For example, to save:\n",
    "                        laptop_img_name = f\"laptop{laptopCount}_{img_name}\"\n",
    "                        laptopCount+=1\n",
    "                        laptop_img_path = f\"{laptop_output_dir}/{laptop_img_name}\"\n",
    "                        cv2.imwrite(laptop_img_path, laptop_img_cropped)\n",
    "# Execute the function\n",
    "\n",
    "\n",
    "\n",
    "# Process the images\n",
    "segment_and_annotate_images()"
   ]
  },
  {
   "cell_type": "code",
   "execution_count": 1,
   "metadata": {},
   "outputs": [
    {
     "name": "stdout",
     "output_type": "stream",
     "text": [
      "Deleted testImages/laptop1_251s9f.png\n",
      "Deleted testImages/laptop1_277s8f.png\n",
      "Deleted testImages/laptop1_269s8f.png\n",
      "Deleted testImages/laptop1_232s9f.png\n",
      "Deleted testImages/laptop1_243s9f.png\n",
      "Deleted testImages/laptop1_265s8f.png\n",
      "Deleted testImages/laptop1_275s9f.png\n",
      "Deleted testImages/laptop1_253s8f.png\n",
      "Deleted testImages/laptop1_230s8f.png\n",
      "Deleted testImages/laptop1_267s9f.png\n",
      "Deleted testImages/laptop1_241s8f.png\n",
      "Deleted testImages/laptop1_279s9f.png\n",
      "Deleted testImages/laptop1_277s4f.png\n",
      "Deleted testImages/laptop1_225s6f.png\n",
      "Deleted testImages/laptop1_236s2f.png\n",
      "Deleted testImages/laptop1_264s0f.png\n",
      "Deleted testImages/laptop1_251s5f.png\n",
      "Deleted testImages/laptop1_258s6f.png\n",
      "Deleted testImages/laptop1_242s1f.png\n",
      "Deleted testImages/laptop1_273s3f.png\n",
      "Deleted testImages/laptop1_228s2f.png\n",
      "Deleted testImages/laptop1_260s7f.png\n",
      "Deleted testImages/laptop1_232s5f.png\n",
      "Deleted testImages/laptop1_269s4f.png\n",
      "Deleted testImages/laptop1_255s2f.png\n",
      "Deleted testImages/laptop1_246s6f.png\n",
      "Deleted testImages/laptop1_265s4f.png\n",
      "Deleted testImages/laptop1_237s6f.png\n",
      "Deleted testImages/laptop1_276s0f.png\n",
      "Deleted testImages/laptop1_243s5f.png\n",
      "Deleted testImages/laptop1_259s2f.png\n",
      "Deleted testImages/laptop1_250s1f.png\n",
      "Deleted testImages/laptop1_268s0f.png\n",
      "Deleted testImages/laptop1_233s1f.png\n",
      "Deleted testImages/laptop1_261s3f.png\n",
      "Deleted testImages/laptop1_229s6f.png\n",
      "Deleted testImages/laptop1_272s7f.png\n",
      "Deleted testImages/laptop1_247s2f.png\n",
      "Deleted testImages/laptop1_254s6f.png\n",
      "Deleted testImages/laptop1_244s7f.png\n",
      "Deleted testImages/annotated_255s13f.png\n",
      "Deleted testImages/laptop0_274s17f.png\n",
      "Deleted testImages/laptop0_225s18f.png\n",
      "Deleted testImages/laptop0_227s25f.png\n",
      "Deleted testImages/laptop0_264s17f.png\n",
      "Deleted testImages/annotated_245s13f.png\n",
      "Deleted testImages/laptop0_235s18f.png\n",
      "Deleted testImages/laptop0_237s25f.png\n",
      "Deleted testImages/laptop0_256s23f.png\n",
      "Deleted testImages/annotated_277s27f.png\n",
      "Deleted testImages/annotated_226s28f.png\n",
      "Deleted testImages/annotated_267s27f.png\n",
      "Deleted testImages/laptop0_246s23f.png\n",
      "Deleted testImages/annotated_234s15f.png\n",
      "Deleted testImages/annotated_236s28f.png\n",
      "Deleted testImages/laptop0_269s19f.png\n",
      "Deleted testImages/laptop0_238s16f.png\n",
      "Deleted testImages/laptop0_279s19f.png\n",
      "Deleted testImages/laptop0_228s16f.png\n",
      "Deleted testImages/annotated_268s14f.png\n",
      "Deleted testImages/laptop0_249s10f.png\n",
      "Deleted testImages/laptop0_259s10f.png\n",
      "Deleted testImages/annotated_278s14f.png\n",
      "Deleted testImages/laptop0_273s13f.png\n",
      "Deleted testImages/annotated_252s17f.png\n",
      "Deleted testImages/annotated_242s17f.png\n",
      "Deleted testImages/laptop0_263s13f.png\n",
      "Deleted testImages/laptop0_230s21f.png\n",
      "Deleted testImages/annotated_270s23f.png\n",
      "Deleted testImages/laptop0_251s27f.png\n",
      "Deleted testImages/laptop0_241s27f.png\n",
      "Deleted testImages/annotated_260s23f.png\n",
      "Deleted testImages/annotated_233s11f.png\n",
      "Deleted testImages/laptop0_233s27f.png\n",
      "Deleted testImages/annotated_241s11f.png\n",
      "Deleted testImages/laptop0_262s28f.png\n",
      "Deleted testImages/laptop0_260s15f.png\n",
      "Deleted testImages/laptop0_272s28f.png\n",
      "Deleted testImages/laptop0_270s15f.png\n",
      "Deleted testImages/annotated_251s11f.png\n",
      "Deleted testImages/annotated_230s17f.png\n",
      "Deleted testImages/laptop0_242s21f.png\n",
      "Deleted testImages/annotated_263s25f.png\n",
      "Deleted testImages/annotated_261s18f.png\n",
      "Deleted testImages/annotated_273s25f.png\n",
      "Deleted testImages/annotated_271s18f.png\n",
      "Deleted testImages/laptop0_252s21f.png\n",
      "Deleted testImages/annotated_259s26f.png\n",
      "Deleted testImages/laptop0_278s22f.png\n",
      "Deleted testImages/laptop0_268s22f.png\n",
      "Deleted testImages/annotated_249s26f.png\n",
      "Deleted testImages/annotated_228s20f.png\n",
      "Deleted testImages/annotated_238s20f.png\n",
      "Deleted testImages/laptop0_234s23f.png\n",
      "Deleted testImages/laptop0_267s11f.png\n",
      "Deleted testImages/annotated_246s15f.png\n",
      "Deleted testImages/annotated_244s28f.png\n",
      "Deleted testImages/annotated_256s15f.png\n",
      "Deleted testImages/annotated_254s28f.png\n",
      "Deleted testImages/laptop0_277s11f.png\n",
      "Deleted testImages/annotated_237s13f.png\n",
      "Deleted testImages/annotated_264s21f.png\n",
      "Deleted testImages/laptop0_247s18f.png\n",
      "Deleted testImages/laptop0_245s25f.png\n",
      "Deleted testImages/annotated_227s13f.png\n",
      "Deleted testImages/laptop0_257s18f.png\n",
      "Deleted testImages/laptop0_255s25f.png\n",
      "Deleted testImages/annotated_274s21f.png\n",
      "Deleted testImages/laptop0_250s30f.png\n",
      "Deleted testImages/laptop0_240s30f.png\n",
      "Deleted testImages/laptop0_253s20f.png\n",
      "Deleted testImages/laptop0_243s20f.png\n",
      "Deleted testImages/laptop0_273s29f.png\n",
      "Deleted testImages/laptop0_271s14f.png\n",
      "Deleted testImages/laptop0_263s29f.png\n",
      "Deleted testImages/laptop0_261s14f.png\n",
      "Deleted testImages/laptop0_232s26f.png\n",
      "Deleted testImages/laptop0_256s19f.png\n",
      "Deleted testImages/laptop0_254s24f.png\n",
      "Deleted testImages/laptop0_246s19f.png\n",
      "Deleted testImages/laptop0_244s24f.png\n",
      "Deleted testImages/laptop0_276s10f.png\n",
      "Deleted testImages/laptop0_225s22f.png\n",
      "Deleted testImages/laptop0_266s10f.png\n",
      "Deleted testImages/laptop0_235s22f.png\n",
      "Deleted testImages/laptop0_269s23f.png\n",
      "Deleted testImages/laptop0_279s23f.png\n",
      "Deleted testImages/laptop0_258s11f.png\n",
      "Deleted testImages/laptop0_248s11f.png\n",
      "Deleted testImages/laptop0_229s17f.png\n",
      "Deleted testImages/laptop0_278s18f.png\n",
      "Deleted testImages/laptop0_239s17f.png\n",
      "Deleted testImages/laptop0_268s18f.png\n",
      "Deleted testImages/laptop0_247s22f.png\n",
      "Deleted testImages/laptop0_257s22f.png\n",
      "Deleted testImages/laptop0_234s19f.png\n",
      "Deleted testImages/laptop0_236s24f.png\n",
      "Deleted testImages/laptop0_265s16f.png\n",
      "Deleted testImages/laptop0_226s24f.png\n",
      "Deleted testImages/laptop0_275s16f.png\n",
      "Deleted testImages/laptop0_240s26f.png\n",
      "Deleted testImages/laptop0_250s26f.png\n",
      "Deleted testImages/laptop0_231s20f.png\n",
      "Deleted testImages/laptop0_262s12f.png\n",
      "Deleted testImages/laptop0_272s12f.png\n",
      "Deleted testImages/annotated_258s11f.png\n",
      "Deleted testImages/annotated_248s11f.png\n",
      "Deleted testImages/annotated_229s17f.png\n",
      "Deleted testImages/annotated_278s18f.png\n",
      "Deleted testImages/annotated_239s17f.png\n",
      "Deleted testImages/annotated_268s18f.png\n",
      "Deleted testImages/annotated_247s22f.png\n",
      "Deleted testImages/annotated_257s22f.png\n",
      "Deleted testImages/annotated_236s24f.png\n",
      "Deleted testImages/annotated_234s19f.png\n",
      "Deleted testImages/annotated_265s16f.png\n",
      "Deleted testImages/annotated_226s24f.png\n",
      "Deleted testImages/annotated_275s16f.png\n",
      "Deleted testImages/annotated_240s26f.png\n",
      "Deleted testImages/annotated_250s26f.png\n",
      "Deleted testImages/annotated_231s20f.png\n",
      "Deleted testImages/annotated_262s12f.png\n",
      "Deleted testImages/annotated_272s12f.png\n",
      "Deleted testImages/annotated_250s30f.png\n",
      "Deleted testImages/annotated_240s30f.png\n",
      "Deleted testImages/annotated_253s20f.png\n",
      "Deleted testImages/annotated_243s20f.png\n",
      "Deleted testImages/annotated_271s14f.png\n",
      "Deleted testImages/annotated_273s29f.png\n",
      "Deleted testImages/annotated_261s14f.png\n",
      "Deleted testImages/annotated_263s29f.png\n",
      "Deleted testImages/annotated_232s26f.png\n",
      "Deleted testImages/annotated_254s24f.png\n",
      "Deleted testImages/annotated_256s19f.png\n",
      "Deleted testImages/annotated_244s24f.png\n",
      "Deleted testImages/annotated_246s19f.png\n",
      "Deleted testImages/annotated_276s10f.png\n",
      "Deleted testImages/annotated_225s22f.png\n",
      "Deleted testImages/annotated_266s10f.png\n",
      "Deleted testImages/annotated_235s22f.png\n",
      "Deleted testImages/annotated_269s23f.png\n",
      "Deleted testImages/annotated_279s23f.png\n",
      "Deleted testImages/annotated_233s27f.png\n",
      "Deleted testImages/annotated_260s15f.png\n",
      "Deleted testImages/annotated_262s28f.png\n",
      "Deleted testImages/laptop0_241s11f.png\n",
      "Deleted testImages/laptop0_251s11f.png\n",
      "Deleted testImages/annotated_270s15f.png\n",
      "Deleted testImages/annotated_272s28f.png\n",
      "Deleted testImages/laptop0_230s17f.png\n",
      "Deleted testImages/laptop0_261s18f.png\n",
      "Deleted testImages/laptop0_263s25f.png\n",
      "Deleted testImages/annotated_242s21f.png\n",
      "Deleted testImages/annotated_252s21f.png\n",
      "Deleted testImages/laptop0_271s18f.png\n",
      "Deleted testImages/laptop0_273s25f.png\n",
      "Deleted testImages/annotated_278s22f.png\n",
      "Deleted testImages/laptop0_259s26f.png\n",
      "Deleted testImages/laptop0_249s26f.png\n",
      "Deleted testImages/annotated_268s22f.png\n",
      "Deleted testImages/laptop0_228s20f.png\n",
      "Deleted testImages/laptop0_238s20f.png\n",
      "Deleted testImages/annotated_234s23f.png\n",
      "Deleted testImages/laptop0_244s28f.png\n",
      "Deleted testImages/laptop0_246s15f.png\n",
      "Deleted testImages/annotated_267s11f.png\n",
      "Deleted testImages/annotated_277s11f.png\n",
      "Deleted testImages/laptop0_254s28f.png\n",
      "Deleted testImages/laptop0_256s15f.png\n",
      "Deleted testImages/laptop0_237s13f.png\n",
      "Deleted testImages/annotated_245s25f.png\n",
      "Deleted testImages/annotated_247s18f.png\n",
      "Deleted testImages/laptop0_264s21f.png\n",
      "Deleted testImages/laptop0_227s13f.png\n",
      "Deleted testImages/laptop0_274s21f.png\n",
      "Deleted testImages/annotated_255s25f.png\n",
      "Deleted testImages/annotated_257s18f.png\n",
      "Deleted testImages/annotated_274s17f.png\n",
      "Deleted testImages/laptop0_255s13f.png\n",
      "Deleted testImages/annotated_227s25f.png\n",
      "Deleted testImages/annotated_225s18f.png\n",
      "Deleted testImages/laptop0_245s13f.png\n",
      "Deleted testImages/annotated_264s17f.png\n",
      "Deleted testImages/annotated_237s25f.png\n",
      "Deleted testImages/annotated_235s18f.png\n",
      "Deleted testImages/laptop0_277s27f.png\n",
      "Deleted testImages/annotated_256s23f.png\n",
      "Deleted testImages/laptop0_226s28f.png\n",
      "Deleted testImages/annotated_246s23f.png\n",
      "Deleted testImages/laptop0_267s27f.png\n",
      "Deleted testImages/laptop0_236s28f.png\n",
      "Deleted testImages/laptop0_234s15f.png\n",
      "Deleted testImages/annotated_269s19f.png\n",
      "Deleted testImages/annotated_238s16f.png\n",
      "Deleted testImages/annotated_279s19f.png\n",
      "Deleted testImages/annotated_228s16f.png\n",
      "Deleted testImages/annotated_249s10f.png\n",
      "Deleted testImages/laptop0_268s14f.png\n",
      "Deleted testImages/laptop0_278s14f.png\n",
      "Deleted testImages/annotated_259s10f.png\n",
      "Deleted testImages/laptop0_252s17f.png\n",
      "Deleted testImages/annotated_273s13f.png\n",
      "Deleted testImages/annotated_263s13f.png\n",
      "Deleted testImages/laptop0_242s17f.png\n",
      "Deleted testImages/annotated_230s21f.png\n",
      "Deleted testImages/annotated_251s27f.png\n",
      "Deleted testImages/laptop0_270s23f.png\n",
      "Deleted testImages/laptop0_260s23f.png\n",
      "Deleted testImages/annotated_241s27f.png\n",
      "Deleted testImages/laptop0_233s11f.png\n",
      "Deleted testImages/laptop0_243s9f.png\n",
      "Deleted testImages/laptop0_265s8f.png\n",
      "Deleted testImages/laptop2_234s23f.png\n",
      "Deleted testImages/laptop0_251s9f.png\n",
      "Deleted testImages/laptop0_277s8f.png\n",
      "Deleted testImages/laptop2_237s25f.png\n",
      "Deleted testImages/laptop2_235s18f.png\n",
      "Deleted testImages/laptop0_232s9f.png\n",
      "Deleted testImages/laptop0_269s8f.png\n",
      "Deleted testImages/laptop0_267s9f.png\n",
      "Deleted testImages/laptop0_241s8f.png\n",
      "Deleted testImages/laptop0_279s9f.png\n",
      "Deleted testImages/laptop2_236s24f.png\n",
      "Deleted testImages/laptop0_275s9f.png\n",
      "Deleted testImages/laptop2_276s10f.png\n",
      "Deleted testImages/laptop0_253s8f.png\n",
      "Deleted testImages/laptop0_230s8f.png\n",
      "Deleted testImages/laptop2_232s26f.png\n",
      "Deleted testImages/laptop0_237s6f.png\n",
      "Deleted testImages/laptop0_265s4f.png\n",
      "Deleted testImages/laptop0_276s0f.png\n",
      "Deleted testImages/laptop0_243s5f.png\n",
      "Deleted testImages/laptop0_250s1f.png\n",
      "Deleted testImages/laptop0_259s2f.png\n",
      "Deleted testImages/laptop0_261s3f.png\n",
      "Deleted testImages/laptop0_233s1f.png\n",
      "Deleted testImages/laptop0_268s0f.png\n",
      "Deleted testImages/laptop0_272s7f.png\n",
      "Deleted testImages/laptop0_229s6f.png\n",
      "Deleted testImages/laptop0_247s2f.png\n",
      "Deleted testImages/laptop0_254s6f.png\n",
      "Deleted testImages/laptop0_225s6f.png\n",
      "Deleted testImages/laptop0_277s4f.png\n",
      "Deleted testImages/laptop0_264s0f.png\n",
      "Deleted testImages/laptop0_236s2f.png\n",
      "Deleted testImages/laptop0_258s6f.png\n",
      "Deleted testImages/laptop0_251s5f.png\n",
      "Deleted testImages/laptop0_242s1f.png\n",
      "Deleted testImages/laptop0_228s2f.png\n",
      "Deleted testImages/laptop0_273s3f.png\n",
      "Deleted testImages/laptop0_269s4f.png\n",
      "Deleted testImages/laptop0_232s5f.png\n",
      "Deleted testImages/laptop0_260s7f.png\n",
      "Deleted testImages/laptop0_255s2f.png\n",
      "Deleted testImages/laptop0_246s6f.png\n",
      "Deleted testImages/laptop2_233s11f.png\n",
      "Deleted testImages/laptop0_244s7f.png\n",
      "Deleted testImages/laptop1_227s13f.png\n",
      "Deleted testImages/annotated_228s2f.png\n",
      "Deleted testImages/laptop1_274s21f.png\n",
      "Deleted testImages/laptop1_237s13f.png\n",
      "Deleted testImages/laptop1_264s21f.png\n",
      "Deleted testImages/annotated_273s3f.png\n",
      "Deleted testImages/annotated_269s4f.png\n",
      "Deleted testImages/laptop1_256s15f.png\n",
      "Deleted testImages/laptop1_254s28f.png\n",
      "Deleted testImages/annotated_260s7f.png\n",
      "Deleted testImages/annotated_232s5f.png\n",
      "Deleted testImages/laptop1_246s15f.png\n",
      "Deleted testImages/laptop1_244s28f.png\n",
      "Deleted testImages/laptop1_238s20f.png\n",
      "Deleted testImages/annotated_255s2f.png\n",
      "Deleted testImages/laptop1_228s20f.png\n",
      "Deleted testImages/annotated_246s6f.png\n",
      "Deleted testImages/laptop1_249s26f.png\n",
      "Deleted testImages/laptop1_259s26f.png\n",
      "Deleted testImages/annotated_277s4f.png\n",
      "Deleted testImages/annotated_225s6f.png\n",
      "Deleted testImages/annotated_236s2f.png\n",
      "Deleted testImages/annotated_264s0f.png\n",
      "Deleted testImages/laptop1_273s25f.png\n",
      "Deleted testImages/laptop1_271s18f.png\n",
      "Deleted testImages/annotated_258s6f.png\n",
      "Deleted testImages/laptop1_230s17f.png\n",
      "Deleted testImages/annotated_251s5f.png\n",
      "Deleted testImages/laptop1_263s25f.png\n",
      "Deleted testImages/laptop1_261s18f.png\n",
      "Deleted testImages/laptop1_251s11f.png\n",
      "Deleted testImages/annotated_242s1f.png\n",
      "Deleted testImages/laptop1_241s11f.png\n",
      "Deleted testImages/annotated_233s1f.png\n",
      "Deleted testImages/annotated_261s3f.png\n",
      "Deleted testImages/laptop1_260s23f.png\n",
      "Deleted testImages/laptop1_233s11f.png\n",
      "Deleted testImages/laptop1_270s23f.png\n",
      "Deleted testImages/annotated_268s0f.png\n",
      "Deleted testImages/laptop1_242s17f.png\n",
      "Deleted testImages/annotated_272s7f.png\n",
      "Deleted testImages/laptop1_252s17f.png\n",
      "Deleted testImages/annotated_229s6f.png\n",
      "Deleted testImages/annotated_247s2f.png\n",
      "Deleted testImages/annotated_254s6f.png\n",
      "Deleted testImages/laptop1_278s14f.png\n",
      "Deleted testImages/annotated_265s4f.png\n",
      "Deleted testImages/laptop1_268s14f.png\n",
      "Deleted testImages/annotated_237s6f.png\n",
      "Deleted testImages/annotated_276s0f.png\n",
      "Deleted testImages/laptop1_267s27f.png\n",
      "Deleted testImages/annotated_243s5f.png\n",
      "Deleted testImages/laptop1_234s15f.png\n",
      "Deleted testImages/laptop1_236s28f.png\n",
      "Deleted testImages/laptop1_277s27f.png\n",
      "Deleted testImages/laptop1_226s28f.png\n",
      "Deleted testImages/laptop1_245s13f.png\n",
      "Deleted testImages/annotated_250s1f.png\n",
      "Deleted testImages/laptop1_255s13f.png\n",
      "Deleted testImages/annotated_259s2f.png\n",
      "Deleted testImages/annotated_244s7f.png\n",
      "Deleted testImages/laptop1_279s23f.png\n",
      "Deleted testImages/laptop1_266s10f.png\n",
      "Deleted testImages/laptop1_235s22f.png\n",
      "Deleted testImages/laptop1_276s10f.png\n",
      "Deleted testImages/laptop1_225s22f.png\n",
      "Deleted testImages/laptop1_246s19f.png\n",
      "Deleted testImages/annotated_232s9f.png\n",
      "Deleted testImages/laptop1_254s24f.png\n",
      "Deleted testImages/laptop1_256s19f.png\n",
      "Deleted testImages/annotated_269s8f.png\n",
      "Deleted testImages/laptop1_261s14f.png\n",
      "Deleted testImages/laptop1_263s29f.png\n",
      "Deleted testImages/annotated_251s9f.png\n",
      "Deleted testImages/laptop1_232s26f.png\n",
      "Deleted testImages/laptop1_271s14f.png\n",
      "Deleted testImages/laptop1_273s29f.png\n",
      "Deleted testImages/laptop1_243s20f.png\n",
      "Deleted testImages/laptop1_253s20f.png\n",
      "Deleted testImages/annotated_277s8f.png\n",
      "Deleted testImages/laptop1_240s30f.png\n",
      "Deleted testImages/laptop1_250s30f.png\n",
      "Deleted testImages/laptop1_272s12f.png\n",
      "Deleted testImages/laptop1_231s20f.png\n",
      "Deleted testImages/laptop1_262s12f.png\n",
      "Deleted testImages/laptop1_250s26f.png\n",
      "Deleted testImages/laptop1_240s26f.png\n",
      "Deleted testImages/laptop1_226s24f.png\n",
      "Deleted testImages/laptop1_275s16f.png\n",
      "Deleted testImages/laptop1_236s24f.png\n",
      "Deleted testImages/laptop1_234s19f.png\n",
      "Deleted testImages/annotated_243s9f.png\n",
      "Deleted testImages/laptop1_265s16f.png\n",
      "Deleted testImages/laptop1_257s22f.png\n",
      "Deleted testImages/laptop1_247s22f.png\n",
      "Deleted testImages/laptop1_239s17f.png\n",
      "Deleted testImages/annotated_265s8f.png\n",
      "Deleted testImages/laptop1_268s18f.png\n",
      "Deleted testImages/laptop1_229s17f.png\n",
      "Deleted testImages/laptop1_278s18f.png\n",
      "Deleted testImages/laptop1_248s11f.png\n",
      "Deleted testImages/laptop1_258s11f.png\n",
      "Deleted testImages/laptop1_241s27f.png\n",
      "Deleted testImages/annotated_230s8f.png\n",
      "Deleted testImages/laptop1_263s13f.png\n",
      "Deleted testImages/laptop1_230s21f.png\n",
      "Deleted testImages/laptop1_273s13f.png\n",
      "Deleted testImages/laptop1_259s10f.png\n",
      "Deleted testImages/laptop1_249s10f.png\n",
      "Deleted testImages/laptop1_279s19f.png\n",
      "Deleted testImages/laptop1_228s16f.png\n",
      "Deleted testImages/annotated_275s9f.png\n",
      "Deleted testImages/laptop1_269s19f.png\n",
      "Deleted testImages/laptop1_238s16f.png\n",
      "Deleted testImages/laptop1_246s23f.png\n",
      "Deleted testImages/laptop1_256s23f.png\n",
      "Deleted testImages/annotated_253s8f.png\n",
      "Deleted testImages/laptop1_237s25f.png\n",
      "Deleted testImages/laptop1_235s18f.png\n",
      "Deleted testImages/laptop1_227s25f.png\n",
      "Deleted testImages/laptop1_225s18f.png\n",
      "Deleted testImages/annotated_279s9f.png\n",
      "Deleted testImages/laptop1_255s25f.png\n",
      "Deleted testImages/laptop1_257s18f.png\n",
      "Deleted testImages/laptop1_245s25f.png\n",
      "Deleted testImages/laptop1_247s18f.png\n",
      "Deleted testImages/laptop1_277s11f.png\n",
      "Deleted testImages/laptop1_234s23f.png\n",
      "Deleted testImages/laptop1_267s11f.png\n",
      "Deleted testImages/laptop1_278s22f.png\n",
      "Deleted testImages/annotated_267s9f.png\n",
      "Deleted testImages/laptop1_252s21f.png\n",
      "Deleted testImages/laptop1_242s21f.png\n",
      "Deleted testImages/laptop1_270s15f.png\n",
      "Deleted testImages/laptop1_272s28f.png\n",
      "Deleted testImages/laptop1_233s27f.png\n",
      "Deleted testImages/laptop1_260s15f.png\n",
      "Deleted testImages/laptop1_262s28f.png\n",
      "Deleted testImages/annotated_241s8f.png\n",
      "Deleted testImages/laptop2_232s5f.png\n",
      "Deleted testImages/laptop2_228s2f.png\n"
     ]
    }
   ],
   "source": [
    "#DONT RUN EVER\n",
    "'''\n",
    "directory = 'testImages'\n",
    "\n",
    "# Loop through each file in the directory\n",
    "for filename in os.listdir(directory):\n",
    "    # Check if the filename starts with \"annotated\"\n",
    "    if filename.startswith(\"annotated\") or filename.startswith(\"laptop\"):\n",
    "        # Construct the full file path\n",
    "        file_path = os.path.join(directory, filename)\n",
    "        # Delete the file\n",
    "        os.remove(file_path)\n",
    "        print(f\"Deleted {file_path}\")\n",
    "'''\n"
   ]
  },
  {
   "cell_type": "code",
   "execution_count": 9,
   "metadata": {},
   "outputs": [],
   "source": [
    "'''\n",
    "import os\n",
    "import pillow_heif\n",
    "from PIL import Image\n",
    "\n",
    "def heic_to_png(source_dir, target_dir):\n",
    "    # Create the target directory if it doesn't exist\n",
    "    if not os.path.exists(target_dir):\n",
    "        os.makedirs(target_dir)\n",
    "    \n",
    "    # List all HEIC files in the source directory\n",
    "    for filename in os.listdir(source_dir):\n",
    "        if filename.lower().endswith(\".heic\"):\n",
    "            from PIL import Image\n",
    "        \n",
    "\n",
    "        heif_file = pillow_heif.read_heif(os.path.join(source_dir, filename))\n",
    "        image = Image.frombytes(\n",
    "            heif_file.mode, \n",
    "            heif_file.size, \n",
    "            heif_file.data,\n",
    "            \"raw\",\n",
    "            heif_file.mode,\n",
    "            heif_file.stride,\n",
    "        )\n",
    "\n",
    "        #image.save('output.png', format=\"PNG\")\n",
    "            \n",
    "            # Save the image in PNG format\n",
    "        target_filename = os.path.splitext(filename)[0] + \".png\"\n",
    "        target_path = os.path.join(target_dir, target_filename)\n",
    "                # Save the image in PNG format\n",
    "        image.save(target_path, \"PNG\")\n",
    "            \n",
    "        #print(f\"Converted {filename} to PNG and saved to {target_file_path}\")\n",
    "\n",
    "# Example usage\n",
    "source_directory = 'laptop_heic/'\n",
    "target_directory = 'laptop_dataset/'\n",
    "heic_to_png(source_directory, target_directory)\n",
    "'''"
   ]
  },
  {
   "cell_type": "code",
   "execution_count": 69,
   "metadata": {},
   "outputs": [
    {
     "name": "stdout",
     "output_type": "stream",
     "text": [
      "laptop_geojson/laptop0_IMG_3638.geojson\n",
      "skipped laptop_geojson/laptop0_IMG_3638.geojson\n",
      "laptop_geojson/laptop0_IMG_3621.geojson\n",
      "laptop_geojson/laptop1_IMG_3633.geojson\n",
      "laptop_geojson/laptop0_IMG_3619.geojson\n",
      "laptop_geojson/laptop2_IMG_3597.geojson\n",
      "laptop_geojson/laptop0_IMG_3627.geojson\n",
      "laptop_geojson/laptop1_IMG_3601.geojson\n",
      "laptop_geojson/laptop0_IMG_3591.geojson\n",
      "skipped laptop_geojson/laptop0_IMG_3591.geojson\n",
      "laptop_geojson/laptop0_IMG_3667.geojson\n",
      "skipped laptop_geojson/laptop0_IMG_3667.geojson\n",
      "laptop_geojson/laptop0_IMG_3650.geojson\n",
      "laptop_geojson/laptop1_IMG_3664.geojson\n",
      "laptop_geojson/laptop0_IMG_3631.geojson\n",
      "laptop_geojson/laptop0_IMG_3595.geojson\n",
      "laptop_geojson/laptop0_IMG_3662.geojson\n",
      "laptop_geojson/laptop0_IMG_3646.geojson\n",
      "skipped laptop_geojson/laptop0_IMG_3646.geojson\n",
      "laptop_geojson/laptop0_IMG_3669.geojson\n",
      "laptop_geojson/laptop0_IMG_3647.geojson\n",
      "laptop_geojson/laptop0_IMG_3654.geojson\n",
      "laptop_geojson/laptop1_IMG_3618.geojson\n",
      "laptop_geojson/laptop1_IMG_3645.geojson\n",
      "laptop_geojson/laptop1_IMG_3616.geojson\n",
      "laptop_geojson/laptop2_IMG_3656.geojson\n",
      "laptop_geojson/laptop0_IMG_3640.geojson\n",
      "laptop_geojson/laptop0_IMG_3602.geojson\n",
      "laptop_geojson/laptop0_IMG_3645.geojson\n",
      "laptop_geojson/laptop0_IMG_3622.geojson\n",
      "skipped laptop_geojson/laptop0_IMG_3622.geojson\n",
      "laptop_geojson/laptop0_IMG_3609.geojson\n",
      "laptop_geojson/laptop0_IMG_3629.geojson\n",
      "laptop_geojson/laptop0_IMG_3594.geojson\n",
      "laptop_geojson/laptop0_IMG_3601.geojson\n",
      "laptop_geojson/laptop0_IMG_3607.geojson\n",
      "laptop_geojson/laptop0_IMG_3610.geojson\n",
      "laptop_geojson/laptop0_IMG_3636.geojson\n",
      "laptop_geojson/laptop3_IMG_3595.geojson\n",
      "laptop_geojson/laptop0_IMG_3606.geojson\n",
      "laptop_geojson/laptop0_IMG_3665.geojson\n",
      "laptop_geojson/laptop0_IMG_3635.geojson\n",
      "laptop_geojson/laptop1_IMG_3643.geojson\n",
      "laptop_geojson/laptop0_IMG_3661.geojson\n",
      "laptop_geojson/laptop0_IMG_3592.geojson\n",
      "laptop_geojson/laptop0_IMG_3599.geojson\n",
      "laptop_geojson/laptop2_IMG_3603.geojson\n",
      "skipped laptop_geojson/laptop2_IMG_3603.geojson\n",
      "laptop_geojson/laptop0_IMG_3632.geojson\n",
      "laptop_geojson/laptop0_IMG_3652.geojson\n",
      "laptop_geojson/laptop0_IMG_3641.geojson\n",
      "laptop_geojson/laptop0_IMG_3600.geojson\n",
      "laptop_geojson/laptop0_IMG_3658.geojson\n",
      "laptop_geojson/laptop0_IMG_3623.geojson\n",
      "laptop_geojson/laptop3_IMG_3656.geojson\n",
      "laptop_geojson/laptop0_IMG_3639.geojson\n",
      "laptop_geojson/laptop0_IMG_3663.geojson\n",
      "laptop_geojson/laptop0_IMG_3637.geojson\n",
      "laptop_geojson/laptop1_IMG_3642.geojson\n",
      "laptop_geojson/laptop0_IMG_3655.geojson\n",
      "laptop_geojson/laptop0_IMG_3603.geojson\n",
      "laptop_geojson/laptop3_IMG_3651.geojson\n",
      "laptop_geojson/laptop0_IMG_3628.geojson\n",
      "laptop_geojson/laptop0_IMG_3660.geojson\n",
      "laptop_geojson/laptop0_IMG_3611.geojson\n",
      "laptop_geojson/laptop0_IMG_3664.geojson\n",
      "laptop_geojson/laptop1_IMG_3634.geojson\n",
      "laptop_geojson/laptop2_IMG_3629.geojson\n",
      "laptop_geojson/laptop0_IMG_3653.geojson\n",
      "laptop_geojson/laptop0_IMG_3666.geojson\n",
      "laptop_geojson/laptop0_IMG_3624.geojson\n",
      "laptop_geojson/laptop0_IMG_3657.geojson\n",
      "laptop_geojson/laptop2_IMG_3596.geojson\n",
      "laptop_geojson/laptop0_IMG_3630.geojson\n",
      "laptop_geojson/laptop2_IMG_3598.geojson\n",
      "laptop_geojson/laptop0_IMG_3625.geojson\n",
      "laptop_geojson/laptop0_IMG_3648.geojson\n",
      "laptop_geojson/laptop0_IMG_3620.geojson\n",
      "laptop_geojson/laptop0_IMG_3668.geojson\n",
      "skipped laptop_geojson/laptop0_IMG_3668.geojson\n"
     ]
    }
   ],
   "source": [
    "import json\n",
    "import os\n",
    "import numpy as np\n",
    "from sklearn.model_selection import train_test_split\n",
    "import glob\n",
    "from PIL import Image\n",
    "import shutil\n",
    "\n",
    "\n",
    "def get_class_index(class_name):\n",
    "    \"\"\"Map class name to a specific class index based on your classification scheme.\"\"\"\n",
    "    class_mapping = {'keyboard': 0, 'trackpad': 1, 'mouse': 2, 'hand': 3}\n",
    "    return class_mapping.get(class_name, -1)  # Return -1 if class_name is not found\n",
    "\n",
    "def convert_polygon_to_yolo_format(polygon, img_width, img_height):\n",
    "    \"\"\"Convert GeoJSON polygon coordinates to YOLO format.\"\"\"\n",
    "    yolo_coords = []\n",
    "    for point in polygon:\n",
    "        #print(point)\n",
    "        x, y = point  # Unpack each coordinate pair\n",
    "        # Normalize the coordinates\n",
    "        nx = x / img_width\n",
    "        ny = y / img_height\n",
    "        yolo_coords.extend([nx, ny])\n",
    "    return yolo_coords\n",
    "\n",
    "def process_geojson(geojson_file, img_width, img_height):\n",
    "    \"\"\"Process a single GeoJSON file and return YOLO formatted annotations, skipping images with MultiPolygon geometries.\"\"\"\n",
    "    with open(geojson_file, 'r') as file:\n",
    "        data = json.load(file)\n",
    "\n",
    "    annotations = []\n",
    "    skip_image = False\n",
    "    for feature in data['features']:\n",
    "        # Check for MultiPolygon geometry and mark to skip the image\n",
    "        if feature['geometry']['type'] == 'MultiPolygon':\n",
    "            skip_image = True\n",
    "            print(f\"skipped {geojson_file}\")\n",
    "            break  # Skip the rest of the features for this image\n",
    "\n",
    "        class_name = feature['properties']['classification']['name']\n",
    "        class_index = get_class_index(class_name)\n",
    "        if class_index == -1:  # Skip if class is not recognized\n",
    "            continue\n",
    "\n",
    "        # Process the polygon as before\n",
    "        polygon = feature['geometry']['coordinates'][0]\n",
    "        yolo_coords = convert_polygon_to_yolo_format(polygon, img_width, img_height)\n",
    "        annotations.append(f\"{class_index} \" + ' '.join(map(str, yolo_coords)))\n",
    "\n",
    "    if skip_image:\n",
    "        return None  # Or an empty list, depending on how you want to handle skipped images\n",
    "    else:\n",
    "        return annotations\n",
    "\n",
    "\n",
    "\n",
    "def get_image_dimensions(image_file):\n",
    "    \"\"\"Get dimensions of the image.\"\"\"\n",
    "    with Image.open(image_file) as img:\n",
    "        return img.width, img.height\n",
    "\n",
    "def split_data_and_convert_annotations(geojson_files, output_dir, images_dir, train_ratio=0.8):\n",
    "    train_files, val_files = train_test_split(geojson_files, train_size=train_ratio)\n",
    "\n",
    "    for subset, files in [('train', train_files), ('val', val_files)]:\n",
    "        subset_dir = os.path.join(output_dir, subset)\n",
    "        os.makedirs(subset_dir, exist_ok=True)\n",
    "\n",
    "        for file in files:\n",
    "            print(file)\n",
    "            \n",
    "            base_name = os.path.splitext(os.path.basename(file))[0]\n",
    "            png_file = os.path.join(images_dir, f\"{base_name}.png\")\n",
    "            img_width, img_height = get_image_dimensions(png_file)\n",
    "            with Image.open(png_file) as img:\n",
    "                img = img.resize((640, 640))\n",
    "                resized_png_file = os.path.join(subset_dir, \"images\",f\"{base_name}_resized.png\")\n",
    "                #img.save(resized_png_file)  # Save the resized image temporarily\n",
    "    \n",
    "    # Copy the resized image to the subset_dir\n",
    "            \n",
    "            #shutil.copy(png_file, subset_dir)\n",
    "    # Get image dimensions\n",
    "            \n",
    "            # Placeholder values for image width and height\n",
    "            #img_width, img_height = 1920, 1080  # You need to adjust these\n",
    "            annotations = process_geojson(file, img_width, img_height)\n",
    "            base_name = os.path.splitext(os.path.basename(file))[0]\n",
    "            if(annotations != None):\n",
    "                img.save(resized_png_file)\n",
    "                with open(os.path.join(subset_dir, \"labels\",f\"{base_name}_resized.txt\"), 'w') as f:\n",
    "                    #print(f\"annots: {annotations}\")\n",
    "                    f.write('\\n'.join(annotations))\n",
    "\n",
    "# Example usage\n",
    "geojson_dir = 'laptop_geojson'\n",
    "geojson_files = glob.glob(os.path.join(geojson_dir, '*.geojson'))\n",
    "output_dir = 'YOLO_training'\n",
    "images_dir = 'laptop_dataset3'\n",
    "split_data_and_convert_annotations(geojson_files, output_dir, images_dir)"
   ]
  },
  {
   "cell_type": "code",
   "execution_count": 70,
   "metadata": {},
   "outputs": [
    {
     "data": {
      "image/png": "[encoded data removed]",
      "text/plain": [
       "<Figure size 640x480 with 1 Axes>"
      ]
     },
     "metadata": {},
     "output_type": "display_data"
    }
   ],
   "source": [
    "import matplotlib.pyplot as plt\n",
    "import matplotlib.patches as patches\n",
    "from PIL import Image\n",
    "import numpy as np\n",
    "\n",
    "def visualize_annotations(png_file, txt_file):\n",
    "    # Open the image file\n",
    "    img = Image.open(png_file)\n",
    "    fig, ax = plt.subplots(1)\n",
    "    ax.imshow(img)\n",
    "    \n",
    "    # Read annotations from the txt file\n",
    "    with open(txt_file, 'r') as f:\n",
    "        annotations = f.readlines()\n",
    "\n",
    "    for annot in annotations:\n",
    "        parts = annot.strip().split()\n",
    "        class_index = int(parts[0])\n",
    "        points = np.array(parts[1:], dtype=np.float32).reshape(-1, 2)\n",
    "        \n",
    "        # Rescale points from [0, 1] to image dimensions\n",
    "        points[:, 0] *= 640\n",
    "        points[:, 1] *= 640\n",
    "        \n",
    "        # Create a polygon and add it to the plot\n",
    "        polygon = patches.Polygon(points, linewidth=1, edgecolor='r', facecolor='none')\n",
    "        ax.add_patch(polygon)\n",
    "\n",
    "    plt.show()\n",
    "\n",
    "# Example usage\n",
    "png_file = 'YOLO_training/train/images/laptop0_IMG_3607_resized.png'\n",
    "txt_file = 'YOLO_training/train/labels/laptop0_IMG_3607_resized.txt'\n",
    "visualize_annotations(png_file, txt_file)"
   ]
  },
  {
   "cell_type": "code",
   "execution_count": 73,
   "metadata": {},
   "outputs": [
    {
     "name": "stdout",
     "output_type": "stream",
     "text": [
      "WARNING ⚠️ conflicting 'task=detect' passed with 'task=segment' model. Ignoring 'task=detect' and updating to 'task=segment' to match model.\n",
      "Ultralytics YOLOv8.1.18 🚀 Python-3.10.13 torch-2.2.1 CPU (Apple M2)\n",
      "\u001b[34m\u001b[1mengine/trainer: \u001b[0mtask=segment, mode=train, model=yolov8m-seg-keyboard.pt, data=dataset.yaml, epochs=20, time=None, patience=100, batch=16, imgsz=640, save=True, save_period=-1, cache=False, device=None, workers=8, project=None, name=train5, exist_ok=False, pretrained=True, optimizer=auto, verbose=True, seed=0, deterministic=True, single_cls=False, rect=False, cos_lr=False, close_mosaic=10, resume=False, amp=True, fraction=1.0, profile=False, freeze=None, multi_scale=False, overlap_mask=True, mask_ratio=4, dropout=0.0, val=True, split=val, save_json=False, save_hybrid=False, conf=None, iou=0.7, max_det=300, half=False, dnn=False, plots=True, source=None, vid_stride=1, stream_buffer=False, visualize=False, augment=False, agnostic_nms=False, classes=None, retina_masks=False, embed=None, show=False, save_frames=False, save_txt=False, save_conf=False, save_crop=False, show_labels=True, show_conf=True, show_boxes=True, line_width=None, format=torchscript, keras=False, optimize=False, int8=False, dynamic=False, simplify=False, opset=None, workspace=4, nms=False, lr0=0.01, lrf=0.01, momentum=0.937, weight_decay=0.0005, warmup_epochs=3.0, warmup_momentum=0.8, warmup_bias_lr=0.1, box=7.5, cls=0.5, dfl=1.5, pose=12.0, kobj=1.0, label_smoothing=0.0, nbs=64, hsv_h=0.015, hsv_s=0.7, hsv_v=0.4, degrees=0.0, translate=0.1, scale=0.5, shear=0.0, perspective=0.0, flipud=0.0, fliplr=0.5, mosaic=1.0, mixup=0.0, copy_paste=0.0, auto_augment=randaugment, erasing=0.4, crop_fraction=1.0, cfg=None, tracker=botsort.yaml, save_dir=runs/segment/train5\n",
      "Overriding model.yaml nc=80 with nc=4\n",
      "\n",
      "                   from  n    params  module                                       arguments                     \n",
      "  0                  -1  1      1392  ultralytics.nn.modules.conv.Conv             [3, 48, 3, 2]                 \n",
      "  1                  -1  1     41664  ultralytics.nn.modules.conv.Conv             [48, 96, 3, 2]                \n",
      "  2                  -1  2    111360  ultralytics.nn.modules.block.C2f             [96, 96, 2, True]             \n",
      "  3                  -1  1    166272  ultralytics.nn.modules.conv.Conv             [96, 192, 3, 2]               \n",
      "  4                  -1  4    813312  ultralytics.nn.modules.block.C2f             [192, 192, 4, True]           \n",
      "  5                  -1  1    664320  ultralytics.nn.modules.conv.Conv             [192, 384, 3, 2]              \n",
      "  6                  -1  4   3248640  ultralytics.nn.modules.block.C2f             [384, 384, 4, True]           \n",
      "  7                  -1  1   1991808  ultralytics.nn.modules.conv.Conv             [384, 576, 3, 2]              \n",
      "  8                  -1  2   3985920  ultralytics.nn.modules.block.C2f             [576, 576, 2, True]           \n",
      "  9                  -1  1    831168  ultralytics.nn.modules.block.SPPF            [576, 576, 5]                 \n",
      " 10                  -1  1         0  torch.nn.modules.upsampling.Upsample         [None, 2, 'nearest']          \n",
      " 11             [-1, 6]  1         0  ultralytics.nn.modules.conv.Concat           [1]                           \n",
      " 12                  -1  2   1993728  ultralytics.nn.modules.block.C2f             [960, 384, 2]                 \n",
      " 13                  -1  1         0  torch.nn.modules.upsampling.Upsample         [None, 2, 'nearest']          \n",
      " 14             [-1, 4]  1         0  ultralytics.nn.modules.conv.Concat           [1]                           \n",
      " 15                  -1  2    517632  ultralytics.nn.modules.block.C2f             [576, 192, 2]                 \n",
      " 16                  -1  1    332160  ultralytics.nn.modules.conv.Conv             [192, 192, 3, 2]              \n",
      " 17            [-1, 12]  1         0  ultralytics.nn.modules.conv.Concat           [1]                           \n",
      " 18                  -1  2   1846272  ultralytics.nn.modules.block.C2f             [576, 384, 2]                 \n",
      " 19                  -1  1   1327872  ultralytics.nn.modules.conv.Conv             [384, 384, 3, 2]              \n",
      " 20             [-1, 9]  1         0  ultralytics.nn.modules.conv.Concat           [1]                           \n",
      " 21                  -1  2   4207104  ultralytics.nn.modules.block.C2f             [960, 576, 2]                 \n",
      " 22        [15, 18, 21]  1   5161340  ultralytics.nn.modules.head.Segment          [4, 32, 192, [192, 384, 576]] \n",
      "YOLOv8m-seg summary: 331 layers, 27241964 parameters, 27241948 gradients, 110.4 GFLOPs\n",
      "\n",
      "Transferred 531/537 items from pretrained weights\n",
      "Freezing layer 'model.22.dfl.conv.weight'\n",
      "\u001b[34m\u001b[1mtrain: \u001b[0mScanning /Users/aneeshkalla/Desktop/HackTJ11.0/datasets/YOLO_training/tra\u001b[0m\n",
      "\u001b[34m\u001b[1mtrain: \u001b[0mNew cache created: /Users/aneeshkalla/Desktop/HackTJ11.0/datasets/YOLO_training/train/labels.cache\n",
      "\u001b[34m\u001b[1mval: \u001b[0mScanning /Users/aneeshkalla/Desktop/HackTJ11.0/datasets/YOLO_training/val/l\u001b[0m\n",
      "\u001b[34m\u001b[1mval: \u001b[0mNew cache created: /Users/aneeshkalla/Desktop/HackTJ11.0/datasets/YOLO_training/val/labels.cache\n",
      "Plotting labels to runs/segment/train5/labels.jpg... \n",
      "\u001b[34m\u001b[1moptimizer:\u001b[0m 'optimizer=auto' found, ignoring 'lr0=0.01' and 'momentum=0.937' and determining best 'optimizer', 'lr0' and 'momentum' automatically... \n",
      "\u001b[34m\u001b[1moptimizer:\u001b[0m AdamW(lr=0.00125, momentum=0.9) with parameter groups 86 weight(decay=0.0), 97 weight(decay=0.0005), 96 bias(decay=0.0)\n",
      "Image sizes 640 train, 640 val\n",
      "Using 0 dataloader workers\n",
      "Logging results to \u001b[1mruns/segment/train5\u001b[0m\n",
      "Starting training for 20 epochs...\n",
      "\n",
      "      Epoch    GPU_mem   box_loss   seg_loss   cls_loss   dfl_loss  Instances       Size\n",
      "       1/20         0G      1.173      4.055      3.327      1.577         30   \n",
      "                 Class     Images  Instances      Box(P          R      mAP50  m\n",
      "                   all         14         49      0.503      0.412       0.41      0.347      0.503      0.412      0.419      0.302\n",
      "\n",
      "      Epoch    GPU_mem   box_loss   seg_loss   cls_loss   dfl_loss  Instances       Size\n",
      "       2/20         0G     0.8787      2.664      2.097      1.371         28   \n",
      "                 Class     Images  Instances      Box(P          R      mAP50  mWARNING ⚠️ NMS time limit 2.700s exceeded\n",
      "                 Class     Images  Instances      Box(P          R      mAP50  m\n",
      "                   all         14         49      0.755      0.517      0.537      0.448      0.755      0.517      0.537      0.385\n",
      "\n",
      "      Epoch    GPU_mem   box_loss   seg_loss   cls_loss   dfl_loss  Instances       Size\n",
      "       3/20         0G     0.7477      2.014      1.372      1.232         22   \n",
      "                 Class     Images  Instances      Box(P          R      mAP50  m\n",
      "                   all         14         49      0.655      0.847      0.929      0.821      0.655      0.847      0.921      0.707\n",
      "\n",
      "      Epoch    GPU_mem   box_loss   seg_loss   cls_loss   dfl_loss  Instances       Size\n",
      "       4/20         0G      0.702      1.752       1.01      1.184         29   \n",
      "                 Class     Images  Instances      Box(P          R      mAP50  m\n",
      "                   all         14         49      0.893      0.909      0.973      0.845      0.867      0.891       0.93      0.693\n",
      "\n",
      "      Epoch    GPU_mem   box_loss   seg_loss   cls_loss   dfl_loss  Instances       Size\n",
      "       5/20         0G     0.7343       1.87      1.025      1.203         26   \n",
      "                 Class     Images  Instances      Box(P          R      mAP50  m\n",
      "                   all         14         49        0.9      0.911      0.963      0.801      0.872      0.893      0.929      0.726\n",
      "\n",
      "      Epoch    GPU_mem   box_loss   seg_loss   cls_loss   dfl_loss  Instances       Size\n",
      "  0%|          | 0/4 [00:00<?, ?it/s]^C\n"
     ]
    }
   ],
   "source": [
    "!yolo task=detect mode=train model=yolov8m-seg-keyboard.pt data=dataset.yaml epochs=20 imgsz=640"
   ]
  },
  {
   "cell_type": "code",
   "execution_count": 80,
   "metadata": {},
   "outputs": [
    {
     "name": "stdout",
     "output_type": "stream",
     "text": [
      "\n",
      "image 1/1 /Users/aneeshkalla/Desktop/HackTJ11.0/datasets/YOLO_training/val/images/laptop0_IMG_3625_resized.png: 640x640 1 keyboard, 2 trackpads, 1 mouse, 3 hands, 626.4ms\n",
      "Speed: 1.9ms preprocess, 626.4ms inference, 5.8ms postprocess per image at shape (1, 3, 640, 640)\n"
     ]
    },
    {
     "data": {
      "text/plain": [
       "True"
      ]
     },
     "execution_count": 80,
     "metadata": {},
     "output_type": "execute_result"
    }
   ],
   "source": [
    "#run 5 is best\n",
    "\n",
    "\n",
    "import torch\n",
    "from PIL import Image\n",
    "import matplotlib.pyplot as plt\n",
    "import numpy as np\n",
    "\n",
    "# Load the model\n",
    "model = YOLO('runs/segment/train5/weights/best.pt')\n",
    "# Load an image\n",
    "img = '/Users/aneeshkalla/Desktop/HackTJ11.0/datasets/YOLO_training/val/images/laptop0_IMG_3625_resized.png'  # Update this path to your image\n",
    "\n",
    "# Inference\n",
    "results = model(img)\n",
    "frame_with_overlay = results[0].plot()\n",
    "cv2.imwrite(\"yolooutput.png\", frame_with_overlay)\n",
    "#print(frame_with_overl#\n",
    "#plt.show(frame_with_overlay)\n",
    "# Results\n",
    "#print(results)  # Print text results\n",
    "#results.show()  # Display the image with bounding boxes"
   ]
  }
 ],
 "metadata": {
  "kernelspec": {
   "display_name": "Python 3.10.13 ('base')",
   "language": "python",
   "name": "python3"
  },
  "language_info": {
   "codemirror_mode": {
    "name": "ipython",
    "version": 3
   },
   "file_extension": ".py",
   "mimetype": "text/x-python",
   "name": "python",
   "nbconvert_exporter": "python",
   "pygments_lexer": "ipython3",
   "version": "3.10.13"
  },
  "orig_nbformat": 4,
  "vscode": {
   "interpreter": {
    "hash": "cbd2b21c62340fd9dab47eb480ffa43c8c9f240f46cce75823a8d00bd43a6a0c"
   }
  }
 },
 "nbformat": 4,
 "nbformat_minor": 2
}
